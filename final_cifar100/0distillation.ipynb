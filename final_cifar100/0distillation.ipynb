{
 "cells": [
  {
   "cell_type": "code",
   "execution_count": 1,
   "id": "exotic-skating",
   "metadata": {},
   "outputs": [],
   "source": [
    "from utils import collect\n",
    "from pathlib import Path\n",
    "import matplotlib.pyplot as plt\n",
    "import seaborn as sns\n",
    "import pandas as pd\n",
    "\n",
    "sns.set_context(\"talk\")\n",
    "sns.set_style(\"whitegrid\")\n",
    "\n",
    "import string\n",
    "\n",
    "NAME_TEACHERS = {\"AttentionDistill\": \"Attention (AT)\", \"KnowledgeDistill\": \"Original (KD)\", \"ContrastiveDistill\": \"Contrastive (CRD)\"}\n",
    "MARKERS_TEACHERS = {\"Attention (AT)\": \"X\" , \"Original (KD)\": \"^\", \"Contrastive (CRD)\": \"h\"}"
   ]
  },
  {
   "cell_type": "code",
   "execution_count": 3,
   "id": "sitting-wealth",
   "metadata": {},
   "outputs": [],
   "source": [
    "df=collect(Path(\"/work/dlclarge2/agnihotr-shashank-pruneshift/resnet34/\"))"
   ]
  },
  {
   "cell_type": "code",
   "execution_count": 5,
   "id": "foster-celebrity",
   "metadata": {},
   "outputs": [],
   "source": [
    "a=df.query(\"Amda\").iloc[0]"
   ]
  },
  {
   "cell_type": "code",
   "execution_count": 6,
   "id": "defined-kidney",
   "metadata": {},
   "outputs": [
    {
     "data": {
      "text/plain": [
       "'/work/dlclarge2/agnihotr-shashank-pruneshift/resnet34/amda'"
      ]
     },
     "execution_count": 6,
     "metadata": {},
     "output_type": "execute_result"
    }
   ],
   "source": [
    "a[\"Path\"]"
   ]
  },
  {
   "cell_type": "code",
   "execution_count": 20,
   "id": "higher-fishing",
   "metadata": {},
   "outputs": [],
   "source": [
    "df=collect(Path(\"/work/dlclarge2/agnihotr-shashank-pruneshift/final_cifar100/distillation\")).sort_values(by=[\"Loss\", \"Augmix\",\"Cifar100 Error\"])"
   ]
  },
  {
   "cell_type": "code",
   "execution_count": null,
   "id": "exceptional-strength",
   "metadata": {},
   "outputs": [],
   "source": []
  },
  {
   "cell_type": "code",
   "execution_count": 2,
   "id": "homeless-artist",
   "metadata": {},
   "outputs": [
    {
     "data": {
      "text/html": [
       "<div>\n",
       "<style scoped>\n",
       "    .dataframe tbody tr th:only-of-type {\n",
       "        vertical-align: middle;\n",
       "    }\n",
       "\n",
       "    .dataframe tbody tr th {\n",
       "        vertical-align: top;\n",
       "    }\n",
       "\n",
       "    .dataframe thead th {\n",
       "        text-align: right;\n",
       "    }\n",
       "</style>\n",
       "<table border=\"1\" class=\"dataframe\">\n",
       "  <thead>\n",
       "    <tr style=\"text-align: right;\">\n",
       "      <th></th>\n",
       "      <th>Amda</th>\n",
       "      <th>Augmix</th>\n",
       "      <th>Cifar100 Error</th>\n",
       "      <th>Cifar100-C Error</th>\n",
       "      <th>DeepAugment</th>\n",
       "      <th>Epochs</th>\n",
       "      <th>LearningRate</th>\n",
       "      <th>Loss</th>\n",
       "      <th>Network</th>\n",
       "      <th>Path</th>\n",
       "      <th>Scaling</th>\n",
       "      <th>WeightDecay</th>\n",
       "      <th>kd_T</th>\n",
       "      <th>kd_mixture</th>\n",
       "    </tr>\n",
       "  </thead>\n",
       "  <tbody>\n",
       "    <tr>\n",
       "      <th>300</th>\n",
       "      <td>False</td>\n",
       "      <td>True</td>\n",
       "      <td>27.26</td>\n",
       "      <td>37.821585</td>\n",
       "      <td>False</td>\n",
       "      <td>100</td>\n",
       "      <td>0.1</td>\n",
       "      <td>StandardLoss</td>\n",
       "      <td>resnet50</td>\n",
       "      <td>/work/dlclarge2/agnihotr-shashank-pruneshift/t...</td>\n",
       "      <td>1</td>\n",
       "      <td>0.0002</td>\n",
       "      <td>None</td>\n",
       "      <td>None</td>\n",
       "    </tr>\n",
       "  </tbody>\n",
       "</table>\n",
       "</div>"
      ],
      "text/plain": [
       "      Amda  Augmix  Cifar100 Error  Cifar100-C Error  DeepAugment  Epochs  \\\n",
       "300  False    True           27.26         37.821585        False     100   \n",
       "\n",
       "     LearningRate          Loss   Network  \\\n",
       "300           0.1  StandardLoss  resnet50   \n",
       "\n",
       "                                                  Path  Scaling  WeightDecay  \\\n",
       "300  /work/dlclarge2/agnihotr-shashank-pruneshift/t...        1       0.0002   \n",
       "\n",
       "     kd_T kd_mixture  \n",
       "300  None       None  "
      ]
     },
     "execution_count": 2,
     "metadata": {},
     "output_type": "execute_result"
    }
   ],
   "source": [
    "collect(Path(\"/work/dlclarge2/agnihotr-shashank-pruneshift/teachers/resnet50_augmix\"))"
   ]
  },
  {
   "cell_type": "code",
   "execution_count": 21,
   "id": "recovered-strain",
   "metadata": {},
   "outputs": [],
   "source": [
    "df=df.drop_duplicates([\"Loss\", \"Augmix\"])"
   ]
  },
  {
   "cell_type": "code",
   "execution_count": 22,
   "id": "animated-ozone",
   "metadata": {},
   "outputs": [],
   "source": [
    "df_std=df.query(\"not Augmix\")\n",
    "df_aug=df.query(\"Augmix\")"
   ]
  },
  {
   "cell_type": "code",
   "execution_count": 23,
   "id": "hollow-twenty",
   "metadata": {},
   "outputs": [
    {
     "data": {
      "text/html": [
       "<div>\n",
       "<style scoped>\n",
       "    .dataframe tbody tr th:only-of-type {\n",
       "        vertical-align: middle;\n",
       "    }\n",
       "\n",
       "    .dataframe tbody tr th {\n",
       "        vertical-align: top;\n",
       "    }\n",
       "\n",
       "    .dataframe thead th {\n",
       "        text-align: right;\n",
       "    }\n",
       "</style>\n",
       "<table border=\"1\" class=\"dataframe\">\n",
       "  <thead>\n",
       "    <tr style=\"text-align: right;\">\n",
       "      <th></th>\n",
       "      <th>Amda</th>\n",
       "      <th>Augmix</th>\n",
       "      <th>Cifar100 Error</th>\n",
       "      <th>Cifar100-C Error</th>\n",
       "      <th>DeepAugment</th>\n",
       "      <th>Epochs</th>\n",
       "      <th>LearningRate</th>\n",
       "      <th>Loss</th>\n",
       "      <th>Network</th>\n",
       "      <th>Path</th>\n",
       "      <th>Scaling</th>\n",
       "      <th>Teacher</th>\n",
       "      <th>WeightDecay</th>\n",
       "      <th>kd_T</th>\n",
       "      <th>kd_mixture</th>\n",
       "    </tr>\n",
       "  </thead>\n",
       "  <tbody>\n",
       "    <tr>\n",
       "      <th>300</th>\n",
       "      <td>False</td>\n",
       "      <td>False</td>\n",
       "      <td>28.619999</td>\n",
       "      <td>47.158313</td>\n",
       "      <td>False</td>\n",
       "      <td>100</td>\n",
       "      <td>0.1</td>\n",
       "      <td>AttentionDistill</td>\n",
       "      <td>resnet18</td>\n",
       "      <td>/work/dlclarge2/agnihotr-shashank-pruneshift/f...</td>\n",
       "      <td>1</td>\n",
       "      <td>AM ResNet50</td>\n",
       "      <td>0.0002</td>\n",
       "      <td>4.0</td>\n",
       "      <td>None</td>\n",
       "    </tr>\n",
       "    <tr>\n",
       "      <th>300</th>\n",
       "      <td>False</td>\n",
       "      <td>False</td>\n",
       "      <td>24.669999</td>\n",
       "      <td>39.943784</td>\n",
       "      <td>False</td>\n",
       "      <td>100</td>\n",
       "      <td>0.1</td>\n",
       "      <td>ContrastiveDistill</td>\n",
       "      <td>resnet18</td>\n",
       "      <td>/work/dlclarge2/agnihotr-shashank-pruneshift/f...</td>\n",
       "      <td>1</td>\n",
       "      <td>AM ResNet50</td>\n",
       "      <td>0.0002</td>\n",
       "      <td>4.0</td>\n",
       "      <td>None</td>\n",
       "    </tr>\n",
       "    <tr>\n",
       "      <th>300</th>\n",
       "      <td>False</td>\n",
       "      <td>False</td>\n",
       "      <td>24.589998</td>\n",
       "      <td>39.572418</td>\n",
       "      <td>False</td>\n",
       "      <td>100</td>\n",
       "      <td>0.1</td>\n",
       "      <td>KnowledgeDistill</td>\n",
       "      <td>resnet18</td>\n",
       "      <td>/work/dlclarge2/agnihotr-shashank-pruneshift/f...</td>\n",
       "      <td>1</td>\n",
       "      <td>AM ResNet50</td>\n",
       "      <td>0.0002</td>\n",
       "      <td>4.0</td>\n",
       "      <td>0.9</td>\n",
       "    </tr>\n",
       "  </tbody>\n",
       "</table>\n",
       "</div>"
      ],
      "text/plain": [
       "      Amda  Augmix  Cifar100 Error  Cifar100-C Error  DeepAugment  Epochs  \\\n",
       "300  False   False       28.619999         47.158313        False     100   \n",
       "300  False   False       24.669999         39.943784        False     100   \n",
       "300  False   False       24.589998         39.572418        False     100   \n",
       "\n",
       "     LearningRate                Loss   Network  \\\n",
       "300           0.1    AttentionDistill  resnet18   \n",
       "300           0.1  ContrastiveDistill  resnet18   \n",
       "300           0.1    KnowledgeDistill  resnet18   \n",
       "\n",
       "                                                  Path  Scaling      Teacher  \\\n",
       "300  /work/dlclarge2/agnihotr-shashank-pruneshift/f...        1  AM ResNet50   \n",
       "300  /work/dlclarge2/agnihotr-shashank-pruneshift/f...        1  AM ResNet50   \n",
       "300  /work/dlclarge2/agnihotr-shashank-pruneshift/f...        1  AM ResNet50   \n",
       "\n",
       "     WeightDecay  kd_T kd_mixture  \n",
       "300       0.0002   4.0       None  \n",
       "300       0.0002   4.0       None  \n",
       "300       0.0002   4.0        0.9  "
      ]
     },
     "execution_count": 23,
     "metadata": {},
     "output_type": "execute_result"
    }
   ],
   "source": [
    "df_std"
   ]
  },
  {
   "cell_type": "code",
   "execution_count": 24,
   "id": "searching-mason",
   "metadata": {},
   "outputs": [
    {
     "data": {
      "text/html": [
       "<div>\n",
       "<style scoped>\n",
       "    .dataframe tbody tr th:only-of-type {\n",
       "        vertical-align: middle;\n",
       "    }\n",
       "\n",
       "    .dataframe tbody tr th {\n",
       "        vertical-align: top;\n",
       "    }\n",
       "\n",
       "    .dataframe thead th {\n",
       "        text-align: right;\n",
       "    }\n",
       "</style>\n",
       "<table border=\"1\" class=\"dataframe\">\n",
       "  <thead>\n",
       "    <tr style=\"text-align: right;\">\n",
       "      <th></th>\n",
       "      <th>Amda</th>\n",
       "      <th>Augmix</th>\n",
       "      <th>Cifar100 Error</th>\n",
       "      <th>Cifar100-C Error</th>\n",
       "      <th>DeepAugment</th>\n",
       "      <th>Epochs</th>\n",
       "      <th>LearningRate</th>\n",
       "      <th>Loss</th>\n",
       "      <th>Network</th>\n",
       "      <th>Path</th>\n",
       "      <th>Scaling</th>\n",
       "      <th>WeightDecay</th>\n",
       "      <th>kd_T</th>\n",
       "      <th>kd_mixture</th>\n",
       "    </tr>\n",
       "  </thead>\n",
       "  <tbody>\n",
       "    <tr>\n",
       "      <th>300</th>\n",
       "      <td>False</td>\n",
       "      <td>False</td>\n",
       "      <td>25.150001</td>\n",
       "      <td>49.388313</td>\n",
       "      <td>False</td>\n",
       "      <td>100</td>\n",
       "      <td>0.1</td>\n",
       "      <td>StandardLoss</td>\n",
       "      <td>resnet18</td>\n",
       "      <td>/work/dlclarge2/agnihotr-shashank-pruneshift/f...</td>\n",
       "      <td>1</td>\n",
       "      <td>0.0002</td>\n",
       "      <td>None</td>\n",
       "      <td>None</td>\n",
       "    </tr>\n",
       "  </tbody>\n",
       "</table>\n",
       "</div>"
      ],
      "text/plain": [
       "      Amda  Augmix  Cifar100 Error  Cifar100-C Error  DeepAugment  Epochs  \\\n",
       "300  False   False       25.150001         49.388313        False     100   \n",
       "\n",
       "     LearningRate          Loss   Network  \\\n",
       "300           0.1  StandardLoss  resnet18   \n",
       "\n",
       "                                                  Path  Scaling  WeightDecay  \\\n",
       "300  /work/dlclarge2/agnihotr-shashank-pruneshift/f...        1       0.0002   \n",
       "\n",
       "     kd_T kd_mixture  \n",
       "300  None       None  "
      ]
     },
     "execution_count": 24,
     "metadata": {},
     "output_type": "execute_result"
    }
   ],
   "source": [
    "df_baseline=collect(Path(\"/work/dlclarge2/agnihotr-shashank-pruneshift/final_cifar100/baseline/standard\"))\n",
    "df_baseline"
   ]
  },
  {
   "cell_type": "code",
   "execution_count": 33,
   "id": "burning-vegetation",
   "metadata": {},
   "outputs": [
    {
     "data": {
      "image/png": "[encoded data removed]",
      "text/plain": [
       "<Figure size 1260x360 with 2 Axes>"
      ]
     },
     "metadata": {},
     "output_type": "display_data"
    }
   ],
   "source": [
    "sns.set_style(\"whitegrid\")\n",
    "fig, axes = plt.subplots(1, 2, figsize=(17.5, 5))\n",
    "df_std=df_std.replace(\"AttentionDistill\", \"AT\")\n",
    "df_std=df_std.replace(\"ContrastiveDistill\", \"CRD\")\n",
    "df_std=df_std.replace(\"KnowledgeDistill\", \"KD\")\n",
    "for ax, error in zip(axes.flatten(), [\"Cifar100 Error\", \"Cifar100-C Error\"]):\n",
    "    sns.barplot(data=df_std, x=\"Loss\", y=error, hue=\"Loss\", ax=ax)\n",
    "    ax.set_xlabel(\"Distillation Method\")\n",
    "    ax.set_ylabel(error + \" (%)\")\n",
    "    if error==\"Cifar100-C Error\":\n",
    "        ax.set_ylim(0,51)\n",
    "    ax.set_title(error.split(\" \")[0])\n",
    "    handles, labels = ax.get_legend_handles_labels()\n",
    "    ax.legend('', frameon=False)\n",
    "    ax.axhline(df_baseline.query(\"Network == 'resnet18'\")[error].item(), color=\"grey\", ls=\"dashed\")\n",
    "fig.legend(handles, labels, bbox_to_anchor=(0.37, 1.2), loc=2, borderaxespad=0., ncol=3, title='Method')\n",
    "fig.tight_layout()\n",
    "plt.savefig(f\"figures/distillation_std.pdf\")"
   ]
  },
  {
   "cell_type": "code",
   "execution_count": 29,
   "id": "juvenile-kenya",
   "metadata": {},
   "outputs": [
    {
     "data": {
      "text/html": [
       "<div>\n",
       "<style scoped>\n",
       "    .dataframe tbody tr th:only-of-type {\n",
       "        vertical-align: middle;\n",
       "    }\n",
       "\n",
       "    .dataframe tbody tr th {\n",
       "        vertical-align: top;\n",
       "    }\n",
       "\n",
       "    .dataframe thead th {\n",
       "        text-align: right;\n",
       "    }\n",
       "</style>\n",
       "<table border=\"1\" class=\"dataframe\">\n",
       "  <thead>\n",
       "    <tr style=\"text-align: right;\">\n",
       "      <th></th>\n",
       "      <th>Amda</th>\n",
       "      <th>Augmix</th>\n",
       "      <th>Cifar100 Error</th>\n",
       "      <th>Cifar100-C Error</th>\n",
       "      <th>DeepAugment</th>\n",
       "      <th>Epochs</th>\n",
       "      <th>LearningRate</th>\n",
       "      <th>Loss</th>\n",
       "      <th>Network</th>\n",
       "      <th>Path</th>\n",
       "      <th>Scaling</th>\n",
       "      <th>WeightDecay</th>\n",
       "      <th>kd_T</th>\n",
       "      <th>kd_mixture</th>\n",
       "    </tr>\n",
       "  </thead>\n",
       "  <tbody>\n",
       "    <tr>\n",
       "      <th>300</th>\n",
       "      <td>False</td>\n",
       "      <td>True</td>\n",
       "      <td>26.990002</td>\n",
       "      <td>36.449265</td>\n",
       "      <td>False</td>\n",
       "      <td>100</td>\n",
       "      <td>0.1</td>\n",
       "      <td>StandardLoss</td>\n",
       "      <td>resnet18</td>\n",
       "      <td>/work/dlclarge2/agnihotr-shashank-pruneshift/f...</td>\n",
       "      <td>1</td>\n",
       "      <td>0.0002</td>\n",
       "      <td>None</td>\n",
       "      <td>None</td>\n",
       "    </tr>\n",
       "  </tbody>\n",
       "</table>\n",
       "</div>"
      ],
      "text/plain": [
       "      Amda  Augmix  Cifar100 Error  Cifar100-C Error  DeepAugment  Epochs  \\\n",
       "300  False    True       26.990002         36.449265        False     100   \n",
       "\n",
       "     LearningRate          Loss   Network  \\\n",
       "300           0.1  StandardLoss  resnet18   \n",
       "\n",
       "                                                  Path  Scaling  WeightDecay  \\\n",
       "300  /work/dlclarge2/agnihotr-shashank-pruneshift/f...        1       0.0002   \n",
       "\n",
       "     kd_T kd_mixture  \n",
       "300  None       None  "
      ]
     },
     "execution_count": 29,
     "metadata": {},
     "output_type": "execute_result"
    }
   ],
   "source": [
    "df_aug_baseline=collect(Path(\"/work/dlclarge2/agnihotr-shashank-pruneshift/final_cifar100/baseline/augmix\"))\n",
    "df_aug_baseline"
   ]
  },
  {
   "cell_type": "code",
   "execution_count": 32,
   "id": "deluxe-communication",
   "metadata": {},
   "outputs": [
    {
     "data": {
      "image/png": "[encoded data removed]",
      "text/plain": [
       "<Figure size 1260x360 with 2 Axes>"
      ]
     },
     "metadata": {},
     "output_type": "display_data"
    }
   ],
   "source": [
    "sns.set_style(\"whitegrid\")\n",
    "fig, axes = plt.subplots(1, 2, figsize=(17.5, 5))\n",
    "df_aug=df_aug.replace(\"AttentionDistill\", \"AT\")\n",
    "df_aug=df_aug.replace(\"ContrastiveDistill\", \"CRD\")\n",
    "df_aug=df_aug.replace(\"KnowledgeDistill\", \"KD\")\n",
    "for ax, error in zip(axes.flatten(), [\"Cifar100 Error\", \"Cifar100-C Error\"]):\n",
    "    sns.barplot(data=df_aug, x=\"Loss\", y=error, hue=\"Loss\", ax=ax)\n",
    "    ax.set_xlabel(\"Distillation Method\")\n",
    "    ax.set_ylabel(error + \" (%)\")\n",
    "    if error==\"Cifar100-C Error\":\n",
    "        ax.set_ylim(0,51)\n",
    "    ax.set_title(error.split(\" \")[0])\n",
    "    handles, labels = ax.get_legend_handles_labels()\n",
    "    ax.legend('', frameon=False)\n",
    "    ax.axhline(df_aug_baseline.query(\"Network == 'resnet18'\")[error].item(), color=\"grey\", ls=\"dashed\")\n",
    "fig.legend(handles, labels, bbox_to_anchor=(0.37, 1.2), loc=2, borderaxespad=0., ncol=3, title='Method')\n",
    "fig.tight_layout()\n",
    "plt.savefig(f\"figures/distillation_augmix.pdf\")"
   ]
  }
 ],
 "metadata": {
  "kernelspec": {
   "display_name": "Python 3",
   "language": "python",
   "name": "python3"
  },
  "language_info": {
   "codemirror_mode": {
    "name": "ipython",
    "version": 3
   },
   "file_extension": ".py",
   "mimetype": "text/x-python",
   "name": "python",
   "nbconvert_exporter": "python",
   "pygments_lexer": "ipython3",
   "version": "3.8.10"
  }
 },
 "nbformat": 4,
 "nbformat_minor": 5
}

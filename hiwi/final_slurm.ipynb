{
 "cells": [
  {
   "cell_type": "code",
   "execution_count": null,
   "id": "46995377-27ab-4e2e-87f2-edc1d71cf90b",
   "metadata": {},
   "outputs": [],
   "source": [
    "###TODO###\n",
    "# 1. prune seperate    .......................done\n",
    "# 2. calibrated pruned seperate ..............done\n",
    "# 3. prune joint train seperate   ............done\n",
    "# 4. calibrated prune joint train seperate ....done\n",
    "# 5. prune and train joint     ................done\n",
    "# 6. calibrated prune and train joint    .....missing\n",
    "# 7. Scaled up resnet18     ..................\n",
    "# 8. Calibrated scaled up resnet18   .........\n",
    "# 9. Multiheaded  ............................\n",
    "\n",
    "# 1. Compare errors, test error, ECE, mCE, Rendition\n",
    "# 2. What layers are being pruned\n",
    "# 3. What is the network predicting "
   ]
  },
  {
   "cell_type": "code",
   "execution_count": null,
   "id": "conservative-performer",
   "metadata": {},
   "outputs": [],
   "source": [
    "from utils import collect, add_info\n",
    "from pathlib import Path\n",
    "import matplotlib.pyplot as plt\n",
    "import seaborn as sns\n",
    "import pandas as pd\n",
    "from math import pi\n",
    "import plotly.express as px\n",
    "import plotly.graph_objects as go\n",
    "import plotly.io as pio\n",
    "import numpy as np"
   ]
  },
  {
   "cell_type": "code",
   "execution_count": null,
   "id": "6f8675d4-accc-4a58-902d-e5b72501ab1d",
   "metadata": {},
   "outputs": [],
   "source": []
  },
  {
   "cell_type": "code",
   "execution_count": null,
   "id": "fc67ef2b-9c33-4377-a927-07fa07c5fba5",
   "metadata": {},
   "outputs": [],
   "source": [
    "\n",
    "path=[Path(\"/work/dlclarge1/agnihotr-ensemble/scaled_resnet18/imagenet100/standard_1.73\"), \n",
    "     Path(\"/work/dlclarge1/agnihotr-ensemble/scaled_resnet18/imagenet100/pruned/l1_global/standard\")]\n",
    "scaled_up_std=collect(*path)\n",
    "add_info(scaled_up_std)\n",
    "scaled_up_std = scaled_up_std.sort_values(by=\"Model Size\")\n",
    "scaled_up_std[\"Name\"]=[\"Not Calibrated Scaled Up\", \"Not Calibrated Scaled Up\", \"Not Calibrated Scaled Up\", \"Not Calibrated Scaled Up\", \"Not Calibrated Scaled Up\", \"Not Calibrated Scaled Up\"]\n",
    "scaled_up_std.to_csv('csv/scaled_up_std.csv')\n",
    "print('scaled up std done')"
   ]
  },
  {
   "cell_type": "code",
   "execution_count": null,
   "id": "83386503-90b8-4d5d-86c1-08d05062113c",
   "metadata": {},
   "outputs": [],
   "source": []
  },
  {
   "cell_type": "code",
   "execution_count": null,
   "id": "4e8294f0-fd73-4e4d-af00-0ea38f8a5cc4",
   "metadata": {},
   "outputs": [],
   "source": [
    "\n",
    "path=[Path(\"/work/dlclarge1/agnihotr-ensemble/scaled_resnet18/imagenet100/amda_1.73\"), \n",
    "     Path(\"/work/dlclarge1/agnihotr-ensemble/scaled_resnet18/imagenet100/pruned/l1_global/amda\")]\n",
    "scaled_up_amda=collect(*path)\n",
    "add_info(scaled_up_amda)\n",
    "scaled_up_amda = scaled_up_amda.sort_values(by=\"Model Size\")\n",
    "scaled_up_amda[\"Name\"]=[\"Not Calibrated Scaled Up\", \"Not Calibrated Scaled Up\", \"Not Calibrated Scaled Up\", \"Not Calibrated Scaled Up\", \"Not Calibrated Scaled Up\", \"Not Calibrated Scaled Up\"]\n",
    "scaled_up_amda.to_csv('csv/scaled_up_amda.csv')\n",
    "print('scaled up amda done')"
   ]
  },
  {
   "cell_type": "code",
   "execution_count": null,
   "id": "955d1d49-a2bb-48b4-b1e5-e3710dccb5d5",
   "metadata": {},
   "outputs": [],
   "source": []
  },
  {
   "cell_type": "code",
   "execution_count": null,
   "id": "7d97f803-c5a3-4aba-89ed-ea2b74843c61",
   "metadata": {},
   "outputs": [],
   "source": [
    "\n",
    "path=Path(\"/work/dlclarge1/agnihotr-ensemble/calibrated_scaled_up/resnet18/amda\")\n",
    "calibrated_scaled_up_amda=collect(path)\n",
    "add_info(calibrated_scaled_up_amda)\n",
    "calibrated_scaled_up_amda = calibrated_scaled_up_amda.sort_values(by=\"Model Size\")\n",
    "calibrated_scaled_up_amda[\"Name\"]=[\"Calibrated Scaled Up\", \"Calibrated Scaled Up\", \"Calibrated Scaled Up\", \"Calibrated Scaled Up\", \"Calibrated Scaled Up\", \"Calibrated Scaled Up\"]\n",
    "calibrated_scaled_up_amda.to_csv('csv/calibrated_scaled_up_amda.csv')\n",
    "print('calibrated scaled up amda done')"
   ]
  },
  {
   "cell_type": "code",
   "execution_count": null,
   "id": "1ace466c-a188-486a-bb87-dfb6e75d590d",
   "metadata": {},
   "outputs": [],
   "source": [
    "\n",
    "path=Path(\"/work/dlclarge1/agnihotr-ensemble/calibrated_scaled_up/resnet18/standard\")\n",
    "calibrated_scaled_up_std=collect(path)\n",
    "add_info(calibrated_scaled_up_std)\n",
    "calibrated_scaled_up_std = calibrated_scaled_up_std.sort_values(by=\"Model Size\")\n",
    "calibrated_scaled_up_std[\"Name\"]=[\"Calibrated Scaled Up\", \"Calibrated Scaled Up\", \"Calibrated Scaled Up\", \"Calibrated Scaled Up\", \"Calibrated Scaled Up\", \"Calibrated Scaled Up\"]\n",
    "calibrated_scaled_up_std.to_csv('csv/calibrated_scaled_up_std.csv')\n",
    "print('scaled up std done')"
   ]
  },
  {
   "cell_type": "code",
   "execution_count": null,
   "id": "e247449c-ccc8-46c0-b160-852f7245be20",
   "metadata": {},
   "outputs": [],
   "source": []
  },
  {
   "cell_type": "code",
   "execution_count": null,
   "id": "992c3140-6009-446f-bf8f-94fb672435ae",
   "metadata": {},
   "outputs": [],
   "source": []
  },
  {
   "cell_type": "code",
   "execution_count": null,
   "id": "4d3aa21f-7693-4147-940d-426edd5b22ad",
   "metadata": {},
   "outputs": [],
   "source": [
    "\n",
    "seperate_amda_base=collect(Path(\"/work/dlclarge1/agnihotr-ensemble/second_ensembles/resnet18/amda/performance\"))\n",
    "add_info(seperate_amda_base)\n",
    "seperate_amda_base = seperate_amda_base.sort_values(by=\"Model Size\")\n",
    "seperate_amda_base.to_csv('csv/seperate_amda_base.csv')"
   ]
  },
  {
   "cell_type": "code",
   "execution_count": null,
   "id": "92ab2f48-3738-461a-b928-70fb7ca2f329",
   "metadata": {},
   "outputs": [],
   "source": []
  },
  {
   "cell_type": "code",
   "execution_count": null,
   "id": "d65bda8c-e4dd-4bd6-96e8-968269390165",
   "metadata": {},
   "outputs": [],
   "source": [
    "\n",
    "seperate_std_base=collect(Path(\"/work/dlclarge1/agnihotr-ensemble/second_ensembles/resnet18/standard/performance\"))\n",
    "add_info(seperate_std_base)\n",
    "seperate_std_base = seperate_std_base.sort_values(by=\"Model Size\")\n",
    "seperate_std_base.to_csv('csv/seperate_std_base.csv')\n",
    "print('seperated std base done')"
   ]
  },
  {
   "cell_type": "code",
   "execution_count": null,
   "id": "11045ba2-f61f-4ae1-b9c4-4e400cc50074",
   "metadata": {},
   "outputs": [],
   "source": []
  },
  {
   "cell_type": "code",
   "execution_count": null,
   "id": "541162cf-44c2-4b9b-a69b-0cfbdbd4fcdc",
   "metadata": {},
   "outputs": [],
   "source": [
    "\n",
    "seperate_amda_pruned=collect(Path(\"/work/dlclarge1/agnihotr-ensemble/second_ensembles/resnet18/amda/prune_sep/performance\"))\n",
    "add_info(seperate_amda_pruned)\n",
    "seperate_amda_pruned = seperate_amda_pruned.sort_values(by=\"Model Size\")\n",
    "seperate_amda_pruned.to_csv('csv/seperate_amda_pruned.csv')\n",
    "print('seperated amda pruned done')"
   ]
  },
  {
   "cell_type": "code",
   "execution_count": null,
   "id": "160cce42-5f26-454f-8463-88263022a7f6",
   "metadata": {},
   "outputs": [],
   "source": []
  },
  {
   "cell_type": "code",
   "execution_count": null,
   "id": "da79c480-4acb-4254-b221-895d21081590",
   "metadata": {},
   "outputs": [],
   "source": [
    "\n",
    "seperate_std_pruned=collect(Path(\"/work/dlclarge1/agnihotr-ensemble/second_ensembles/resnet18/standard/prune_sep/performance\"))\n",
    "add_info(seperate_std_pruned)\n",
    "seperate_std_pruned = seperate_std_pruned.sort_values(by=\"Model Size\")\n",
    "seperate_std_pruned.to_csv('csv/seperate_std_pruned.csv')\n",
    "print('seperated standard pruned done')"
   ]
  },
  {
   "cell_type": "code",
   "execution_count": null,
   "id": "207835f6-0d4b-4bee-8410-09f0f0fbbb94",
   "metadata": {},
   "outputs": [],
   "source": []
  },
  {
   "cell_type": "code",
   "execution_count": null,
   "id": "3f243904-dcd5-4ed5-a500-7ba08798cbad",
   "metadata": {},
   "outputs": [],
   "source": [
    "seperate_amda_base=pd.read_csv('csv/seperate_amda_base.csv')\n",
    "seperate_amda_base[\"Prune Amount\"]=0\n",
    "seperate_amda_pruned=pd.read_csv('csvs/seperate_amda_pruned.csv')\n",
    "seperate_amda=seperate_amda_base.append(seperate_amda_pruned, ignore_index=True)\n",
    "seperate_amda=seperate_amda.sort_values(by=\"Model Size\")\n",
    "seperate_amda[\"Name\"] = [\"Not Calibrated Prune-Train seperate\",\"Not Calibrated Prune-Train seperate\",\"Not Calibrated Prune-Train seperate\",\"Not Calibrated Prune-Train seperate\",\"Not Calibrated Prune-Train seperate\",\"Not Calibrated Prune-Train seperate\"]\n",
    "seperate_amda.to_csv('csv/not_calibrated_seperate_amda.csv')\n",
    "print('not_calibrated_seperate_amda done')"
   ]
  },
  {
   "cell_type": "code",
   "execution_count": null,
   "id": "8d924040-f296-43fd-b3e6-020d8e2ef6d3",
   "metadata": {},
   "outputs": [],
   "source": []
  },
  {
   "cell_type": "code",
   "execution_count": null,
   "id": "7866c579-8b29-4d3f-8ce9-30adb7c65bf7",
   "metadata": {},
   "outputs": [],
   "source": [
    "seperate_std_base=pd.read_csv('csv/seperate_std_base.csv')\n",
    "seperate_std_pruned=pd.read_csv('csv/seperate_std_pruned.csv')\n",
    "seperate_std=seperate_std_base.append(seperate_std_pruned, ignore_index=True)\n",
    "seperate_std=seperate_std.sort_values(by=\"Model Size\")\n",
    "seperate_std[\"Name\"] = [\"Not Calibrated Prune-Train seperate\",\"Not Calibrated Prune-Train seperate\",\"Not Calibrated Prune-Train seperate\",\"Not Calibrated Prune-Train seperate\",\"Not Calibrated Prune-Train seperate\",\"Not Calibrated Prune-Train seperate\"]\n",
    "seperate_std.to_csv('csv/not_calibrated_seperate_std.csv')\n",
    "print('not_calibrated_seperate_std done')"
   ]
  },
  {
   "cell_type": "code",
   "execution_count": null,
   "id": "f51d5096-61eb-455b-ba7e-2d7740716e43",
   "metadata": {},
   "outputs": [],
   "source": []
  },
  {
   "cell_type": "code",
   "execution_count": null,
   "id": "92ace9e6-1f94-4277-b60c-75d8a76b3345",
   "metadata": {},
   "outputs": [],
   "source": []
  },
  {
   "cell_type": "code",
   "execution_count": null,
   "id": "069e5739-16eb-4b57-bb78-21b8e03a9d77",
   "metadata": {},
   "outputs": [],
   "source": []
  },
  {
   "cell_type": "code",
   "execution_count": null,
   "id": "3a8a70e3-de0f-4dd1-a526-1d8683f58e18",
   "metadata": {},
   "outputs": [],
   "source": [
    "path=[Path(\"/work/dlclarge1/agnihotr-ensemble/second_prune_joint_train_sep/not_calibrated/standard/finetuned/10/performance\"), \n",
    "     Path(\"/work/dlclarge1/agnihotr-ensemble/second_prune_joint_train_sep/not_calibrated/standard/finetuned/25/performance\"),\n",
    "     Path(\"/work/dlclarge1/agnihotr-ensemble/second_prune_joint_train_sep/not_calibrated/standard/finetuned/50/performance\"),\n",
    "     Path(\"/work/dlclarge1/agnihotr-ensemble/second_prune_joint_train_sep/not_calibrated/standard/finetuned/70/performance\"),\n",
    "     Path(\"/work/dlclarge1/agnihotr-ensemble/second_prune_joint_train_sep/not_calibrated/standard/finetuned/90/performance\")]\n",
    "pruned_jointly_std_pruned=collect(*path)\n",
    "add_info(pruned_jointly_std_pruned)\n",
    "pruned_jointly_std_pruned = pruned_jointly_std_pruned.sort_values(by=\"Model Size\")\n",
    "pruned_jointly_std_pruned.to_csv('csv/not_calibrated_pruned_jointly_std_pruned.csv')\n",
    "print('not_calibrated_pruned jointly std pruned done')"
   ]
  },
  {
   "cell_type": "code",
   "execution_count": null,
   "id": "131b1d46-5a5a-408f-900c-216c11cba7f4",
   "metadata": {},
   "outputs": [],
   "source": []
  },
  {
   "cell_type": "code",
   "execution_count": null,
   "id": "08f6ea8e-25d1-4a90-a258-7b5c676d977d",
   "metadata": {},
   "outputs": [],
   "source": [
    "path=[Path(\"/work/dlclarge1/agnihotr-ensemble/second_prune_joint_train_sep/not_calibrated/amda/finetuned/10/performance\"), \n",
    "     Path(\"/work/dlclarge1/agnihotr-ensemble/second_prune_joint_train_sep/not_calibrated/amda/finetuned/25/performance\"),\n",
    "     Path(\"/work/dlclarge1/agnihotr-ensemble/second_prune_joint_train_sep/not_calibrated/amda/finetuned/50/performance\"),\n",
    "     Path(\"/work/dlclarge1/agnihotr-ensemble/second_prune_joint_train_sep/not_calibrated/amda/finetuned/70/performance\"),\n",
    "     Path(\"/work/dlclarge1/agnihotr-ensemble/second_prune_joint_train_sep/not_calibrated/amda/finetuned/90/performance\")]\n",
    "pruned_jointly_amda_pruned=collect(*path)\n",
    "add_info(pruned_jointly_amda_pruned)\n",
    "pruned_jointly_amda_pruned = pruned_jointly_amda_pruned.sort_values(by=\"Model Size\")\n",
    "pruned_jointly_amda_pruned.to_csv('csv/not_calibrated_pruned_jointly_amda_pruned.csv')\n",
    "print('not_calibrated_pruned jointly amda pruned done')"
   ]
  },
  {
   "cell_type": "code",
   "execution_count": null,
   "id": "8d9f31ce-8072-4ff8-98ab-929f7266c842",
   "metadata": {},
   "outputs": [],
   "source": []
  },
  {
   "cell_type": "code",
   "execution_count": null,
   "id": "763fae61-e393-4410-9081-a699fc797fc0",
   "metadata": {},
   "outputs": [],
   "source": [
    "seperate_std_base=pd.read_csv('csv/seperate_std_base.csv')\n",
    "pruned_jointly_std_pruned=pd.read_csv('csv/not_calibrated_pruned_jointly_std_pruned.csv')\n",
    "pruned_jointly_std=seperate_std_base.append(pruned_jointly_std_pruned, ignore_index=True)\n",
    "pruned_jointly_std=pruned_jointly_std.sort_values(by=\"Model Size\")\n",
    "pruned_jointly_std[\"Name\"] = [\"Not Calibrated Prune joint Train seperate\",\"Not Calibrated Prune joint Train seperate\",\"Not Calibrated Prune joint Train seperate\",\"Not Calibrated Prune joint Train seperate\",\"Not Calibrated Prune joint Train seperate\",\"Not Calibrated Prune joint Train seperate\"]\n",
    "pruned_jointly_std.to_csv('csv/not_calibrated_pruned_jointly_std.csv')\n",
    "print('not_calibrated_pruned jointly std done')"
   ]
  },
  {
   "cell_type": "code",
   "execution_count": null,
   "id": "4b0f67c6-9357-4f1c-a89e-6ec8585e3824",
   "metadata": {},
   "outputs": [],
   "source": []
  },
  {
   "cell_type": "code",
   "execution_count": null,
   "id": "7d61cb65-a336-4f0d-91fd-9baacebb4d69",
   "metadata": {},
   "outputs": [],
   "source": []
  },
  {
   "cell_type": "code",
   "execution_count": null,
   "id": "07463a18-f281-45d9-a9e3-0ae7a0f10ed0",
   "metadata": {},
   "outputs": [],
   "source": [
    "seperate_amda_base=pd.read_csv('csv/seperate_amda_base.csv')\n",
    "pruned_jointly_amda_pruned=pd.read_csv('csv/not_calibrated_pruned_jointly_amda_pruned.csv')\n",
    "pruned_jointly_amda=seperate_amda_base.append(pruned_jointly_amda_pruned, ignore_index=True)\n",
    "pruned_jointly_amda=pruned_jointly_amda.sort_values(by=\"Model Size\")\n",
    "pruned_jointly_amda[\"Name\"] = [\"Not Calibrated Prune joint Train seperate\",\"Not Calibrated Prune joint Train seperate\",\"Not Calibrated Prune joint Train seperate\",\"Not Calibrated Prune joint Train seperate\",\"Not Calibrated Prune joint Train seperate\",\"Not Calibrated Prune joint Train seperate\"]\n",
    "pruned_jointly_amda.to_csv('csv/not_calibrated_pruned_jointly_amda.csv')\n",
    "print('not_calibrated_pruned jointly amda done')"
   ]
  },
  {
   "cell_type": "code",
   "execution_count": null,
   "id": "a1cce144-bacb-41bb-a966-0cc683121ada",
   "metadata": {},
   "outputs": [],
   "source": []
  },
  {
   "cell_type": "code",
   "execution_count": null,
   "id": "8b762210-4dce-4d55-9355-69c8af558595",
   "metadata": {},
   "outputs": [],
   "source": []
  },
  {
   "cell_type": "code",
   "execution_count": null,
   "id": "51364843-89bb-4613-888d-4e3d9410fccd",
   "metadata": {},
   "outputs": [],
   "source": []
  },
  {
   "cell_type": "code",
   "execution_count": null,
   "id": "bb7e3859-deeb-4b24-894a-4686054bf7d3",
   "metadata": {},
   "outputs": [],
   "source": []
  },
  {
   "cell_type": "code",
   "execution_count": null,
   "id": "376bd469-ee6f-4605-b557-f846d2be3ace",
   "metadata": {},
   "outputs": [],
   "source": [
    "path=[Path(\"/work/dlclarge1/agnihotr-ensemble/second_prune_joint_train_sep/calibrated/standard/finetuned/10/performance\"), \n",
    "     Path(\"/work/dlclarge1/agnihotr-ensemble/second_prune_joint_train_sep/calibrated/standard/finetuned/25/performance\"),\n",
    "     Path(\"/work/dlclarge1/agnihotr-ensemble/second_prune_joint_train_sep/calibrated/standard/finetuned/50/performance\"),\n",
    "     Path(\"/work/dlclarge1/agnihotr-ensemble/second_prune_joint_train_sep/calibrated/standard/finetuned/70/performance\"),\n",
    "     Path(\"/work/dlclarge1/agnihotr-ensemble/second_prune_joint_train_sep/calibrated/standard/finetuned/90/performance\")]\n",
    "calibrated_pruned_jointly_std_pruned=collect(*path)\n",
    "add_info(calibrated_pruned_jointly_std_pruned)\n",
    "calibrated_pruned_jointly_std_pruned = calibrated_pruned_jointly_std_pruned.sort_values(by=\"Model Size\")\n",
    "calibrated_pruned_jointly_std_pruned.to_csv('csv/calibrated_pruned_jointly_std_pruned.csv')\n",
    "print('calibrated_pruned jointly std pruned done')"
   ]
  },
  {
   "cell_type": "code",
   "execution_count": null,
   "id": "a67d0d41-db2d-4095-89a8-489e93198ad7",
   "metadata": {},
   "outputs": [],
   "source": []
  },
  {
   "cell_type": "code",
   "execution_count": null,
   "id": "80c47d7e-6e3b-4d89-ad42-92ece29a0a01",
   "metadata": {},
   "outputs": [],
   "source": [
    "path=[Path(\"/work/dlclarge1/agnihotr-ensemble/second_prune_joint_train_sep/calibrated/amda/finetuned/10/performance\"), \n",
    "     Path(\"/work/dlclarge1/agnihotr-ensemble/second_prune_joint_train_sep/calibrated/amda/finetuned/25/performance\"),\n",
    "     Path(\"/work/dlclarge1/agnihotr-ensemble/second_prune_joint_train_sep/calibrated/amda/finetuned/50/performance\"),\n",
    "     Path(\"/work/dlclarge1/agnihotr-ensemble/second_prune_joint_train_sep/calibrated/amda/finetuned/70/performance\"),\n",
    "     Path(\"/work/dlclarge1/agnihotr-ensemble/second_prune_joint_train_sep/calibrated/amda/finetuned/90/performance\")]\n",
    "calibrated_pruned_jointly_amda_pruned=collect(*path)\n",
    "add_info(calibrated_pruned_jointly_amda_pruned)\n",
    "calibrated_pruned_jointly_amda_pruned = calibrated_pruned_jointly_amda_pruned.sort_values(by=\"Model Size\")\n",
    "calibrated_pruned_jointly_amda_pruned.to_csv('csv/calibrated_pruned_jointly_amda_pruned.csv')\n",
    "print('calibrated_pruned jointly amda pruned done')"
   ]
  },
  {
   "cell_type": "code",
   "execution_count": null,
   "id": "265fbaaf-95eb-4a05-b688-f7ad35296636",
   "metadata": {},
   "outputs": [],
   "source": []
  },
  {
   "cell_type": "code",
   "execution_count": null,
   "id": "95b37e06-514f-4dad-ba30-b2467249b766",
   "metadata": {},
   "outputs": [],
   "source": [
    "calibrated_seperate_std_base=pd.read_csv('csv/calibrated_seperate_std_base.csv')\n",
    "calibrated_pruned_jointly_std_pruned=pd.read_csv('csv/calibrated_pruned_jointly_std_pruned.csv')\n",
    "calibrated_pruned_jointly_std=calibrated_seperate_std_base.append(calibrated_pruned_jointly_std_pruned, ignore_index=True)\n",
    "calibrated_pruned_jointly_std=calibrated_pruned_jointly_std.sort_values(by=\"Model Size\")\n",
    "calibrated_pruned_jointly_std[\"Name\"] = [\"Calibrated Prune joint Train seperate\",\"Calibrated Prune joint Train seperate\",\"Calibrated Prune joint Train seperate\",\"Calibrated Prune joint Train seperate\",\"Calibrated Prune joint Train seperate\",\"Calibrated Prune joint Train seperate\"]\n",
    "calibrated_pruned_jointly_std.to_csv('csv/calibrated_pruned_jointly_std.csv')\n",
    "print('calibrated_pruned jointly std done')"
   ]
  },
  {
   "cell_type": "code",
   "execution_count": null,
   "id": "37064bb8-24be-456b-8b8f-ae56c8a97996",
   "metadata": {},
   "outputs": [],
   "source": []
  },
  {
   "cell_type": "code",
   "execution_count": null,
   "id": "79a80db9-7d95-4fe6-99ab-b22bd4b35edb",
   "metadata": {},
   "outputs": [],
   "source": [
    "calibrated_seperate_amda_base=pd.read_csv('csv/calibrated_seperate_amda_base.csv')\n",
    "calibrated_pruned_jointly_amda_pruned=pd.read_csv('csv/calibrated_pruned_jointly_amda_pruned.csv')\n",
    "calibrated_pruned_jointly_amda=calibrated_seperate_amda_base.append(calibrated_pruned_jointly_amda_pruned, ignore_index=True)\n",
    "calibrated_pruned_jointly_amda=calibrated_pruned_jointly_amda.sort_values(by=\"Model Size\")\n",
    "calibrated_pruned_jointly_amda[\"Name\"] = [\"Calibrated Prune joint Train seperate\",\"Calibrated Prune joint Train seperate\",\"Calibrated Prune joint Train seperate\",\"Calibrated Prune joint Train seperate\",\"Calibrated Prune joint Train seperate\"]\n",
    "calibrated_pruned_jointly_amda.to_csv('csv/calibrated_pruned_jointly_amda.csv')\n",
    "print('calibrated_pruned jointly amda done')"
   ]
  },
  {
   "cell_type": "code",
   "execution_count": null,
   "id": "37fd27fe-9c77-4412-87f0-58dec3021f36",
   "metadata": {},
   "outputs": [],
   "source": []
  },
  {
   "cell_type": "code",
   "execution_count": null,
   "id": "78facde6-a1d2-4d8a-9c32-69a713643199",
   "metadata": {},
   "outputs": [],
   "source": []
  },
  {
   "cell_type": "code",
   "execution_count": null,
   "id": "bca5d6e5-9b3f-49cd-8e2c-7cece2e555eb",
   "metadata": {},
   "outputs": [],
   "source": []
  },
  {
   "cell_type": "code",
   "execution_count": null,
   "id": "665791ba-0c91-4123-8fe9-0c04267d3bc1",
   "metadata": {},
   "outputs": [],
   "source": []
  },
  {
   "cell_type": "code",
   "execution_count": null,
   "id": "05ae4fc7-a070-49d7-a72c-deb716dd2637",
   "metadata": {},
   "outputs": [],
   "source": []
  },
  {
   "cell_type": "code",
   "execution_count": null,
   "id": "equivalent-produce",
   "metadata": {},
   "outputs": [],
   "source": [
    "together_amda_base=collect(Path(\"/work/dlclarge1/agnihotr-ensemble/together_second/resnet18/amda\"))\n",
    "add_info(together_amda_base)\n",
    "together_amda_base = together_amda_base.sort_values(by=\"Model Size\")\n",
    "together_amda_base.to_csv('csv/together_amda_base.csv')\n",
    "print('together amda base done')"
   ]
  },
  {
   "cell_type": "code",
   "execution_count": null,
   "id": "843fca3f-e599-44f3-bd22-bceed9102a8c",
   "metadata": {},
   "outputs": [],
   "source": []
  },
  {
   "cell_type": "code",
   "execution_count": null,
   "id": "f875bfdc-770b-4a91-ae5b-78ee0ab99f45",
   "metadata": {},
   "outputs": [],
   "source": [
    "together_std_base=collect(Path(\"/work/dlclarge1/agnihotr-ensemble/together_second/resnet18/standard\"))\n",
    "add_info(together_std_base)\n",
    "together_std_base = together_std_base.sort_values(by=\"Model Size\")\n",
    "together_std_base.to_csv('csv/together_std_base.csv')\n",
    "print('together std base done')"
   ]
  },
  {
   "cell_type": "code",
   "execution_count": null,
   "id": "93ac638d-2096-4d3a-aa59-2d9392675c01",
   "metadata": {},
   "outputs": [],
   "source": []
  },
  {
   "cell_type": "code",
   "execution_count": null,
   "id": "dd53eefe-7ccf-4da5-97f0-e86655348172",
   "metadata": {},
   "outputs": [],
   "source": []
  },
  {
   "cell_type": "code",
   "execution_count": null,
   "id": "6749ce6e-bc11-4757-a50a-69851330a41d",
   "metadata": {},
   "outputs": [],
   "source": [
    "together_amda_pruned=collect(Path(\"/work/dlclarge1/agnihotr-ensemble/together_second/resnet18/pruned_amda\"))\n",
    "add_info(together_amda_pruned)\n",
    "together_amda_pruned = together_amda_pruned.sort_values(by=\"Model Size\")\n",
    "together_amda_pruned.to_csv('csv/together_amda_pruned.csv')\n",
    "print('together amda pruned done')"
   ]
  },
  {
   "cell_type": "code",
   "execution_count": null,
   "id": "8891b97b-cf6c-4b11-b6d9-273a8656669f",
   "metadata": {},
   "outputs": [],
   "source": []
  },
  {
   "cell_type": "code",
   "execution_count": null,
   "id": "92a68c50-2930-4159-a536-93139bd4fd00",
   "metadata": {},
   "outputs": [],
   "source": [
    "together_std_pruned=collect(Path(\"/work/dlclarge1/agnihotr-ensemble/together_second/resnet18/pruned_standard\"))\n",
    "add_info(together_std_pruned)\n",
    "together_std_pruned = together_std_pruned.sort_values(by=\"Model Size\")\n",
    "together_std_pruned.to_csv('csv/together_std_pruned.csv')\n"
   ]
  },
  {
   "cell_type": "code",
   "execution_count": null,
   "id": "594bffc9-cb56-4bc7-87fe-ae29d5320bb3",
   "metadata": {},
   "outputs": [],
   "source": []
  },
  {
   "cell_type": "code",
   "execution_count": null,
   "id": "6c1efca5-b006-4589-be58-39cdd82f139f",
   "metadata": {},
   "outputs": [],
   "source": [
    "together_std_base=pd.read_csv('csv/together_std_base.csv')\n",
    "together_std_pruned=pd.read_csv('csv/together_std_pruned.csv')\n",
    "together_std=together_std_base.append(together_std_pruned, ignore_index=True)\n",
    "together_std=together_std.sort_values(by=\"Model Size\")\n",
    "together_std[\"Name\"] = [\"Prune-Train jointly\",\"Prune-Train jointly\",\"Prune-Train jointly\",\"Prune-Train jointly\",\"Prune-Train jointly\",\"Prune-Train jointly\"]\n",
    "together_std.to_csv('csv/together_std.csv')\n",
    "print('together std done')"
   ]
  },
  {
   "cell_type": "code",
   "execution_count": null,
   "id": "aef56bbd-ac22-48e8-947a-10d9855ce88c",
   "metadata": {},
   "outputs": [],
   "source": []
  },
  {
   "cell_type": "code",
   "execution_count": null,
   "id": "da551f73-295c-49fc-9045-b06ce493aecd",
   "metadata": {},
   "outputs": [],
   "source": [
    "together_amda_base=pd.read_csv('csv/together_amda_base.csv')\n",
    "together_amda_pruned=pd.read_csv('csv/together_amda_pruned.csv')\n",
    "together_amda=together_amda_base.append(together_amda_pruned, ignore_index=True)\n",
    "together_amda=together_amda.sort_values(by=\"Model Size\")\n",
    "together_amda[\"Name\"] = [\"Prune-Train jointly\",\"Prune-Train jointly\",\"Prune-Train jointly\",\"Prune-Train jointly\",\"Prune-Train jointly\",\"Prune-Train jointly\"]\n",
    "together_amda.to_csv('csv/together_amda.csv')\n",
    "print('together amda done')"
   ]
  },
  {
   "cell_type": "code",
   "execution_count": null,
   "id": "72f6c096-1cc3-4043-b43c-808c3ac3bbbe",
   "metadata": {},
   "outputs": [],
   "source": []
  },
  {
   "cell_type": "code",
   "execution_count": null,
   "id": "c9c643a5-8d64-4820-a825-2d4ff45f3025",
   "metadata": {},
   "outputs": [],
   "source": []
  },
  {
   "cell_type": "code",
   "execution_count": null,
   "id": "1f087ae3-fb12-486e-ac2f-c3f917d1f848",
   "metadata": {},
   "outputs": [],
   "source": [
    "calibrated_seperate_amda_base=collect(Path(\"/work/dlclarge1/agnihotr-ensemble/calibrated/resnet18/amda/unpruned/performance\"))\n",
    "add_info(calibrated_seperate_amda_base)\n",
    "calibrated_seperate_amda_base = calibrated_seperate_amda_base.sort_values(by=\"Model Size\")\n",
    "calibrated_seperate_amda_base.to_csv('csv/calibrated_seperate_amda_base.csv')\n",
    "print('calibrated seperate amda base done')"
   ]
  },
  {
   "cell_type": "code",
   "execution_count": null,
   "id": "7636043d-e062-4d8a-af6e-b4b947e824d4",
   "metadata": {},
   "outputs": [],
   "source": []
  },
  {
   "cell_type": "code",
   "execution_count": null,
   "id": "de84d642-169c-41e4-bfe9-66e12dc582db",
   "metadata": {},
   "outputs": [],
   "source": [
    "calibrated_seperate_std_base=collect(Path(\"/work/dlclarge1/agnihotr-ensemble/calibrated/resnet18/standard/unpruned/performance\"))\n",
    "add_info(calibrated_seperate_std_base)\n",
    "calibrated_seperate_std_base = calibrated_seperate_std_base.sort_values(by=\"Model Size\")\n",
    "calibrated_seperate_std_base.to_csv('csv/calibrated_seperate_std_base.csv')\n",
    "print('calibrated seperate std base done')"
   ]
  },
  {
   "cell_type": "code",
   "execution_count": null,
   "id": "2ef3db5e-07bf-4503-9b90-41a384482a33",
   "metadata": {},
   "outputs": [],
   "source": []
  },
  {
   "cell_type": "code",
   "execution_count": null,
   "id": "6ed2c05d-b343-437f-8c57-24282bfa8e14",
   "metadata": {},
   "outputs": [],
   "source": [
    "calibrated_seperate_amda_pruned=collect(Path(\"/work/dlclarge1/agnihotr-ensemble/calibrated/resnet18/amda/pruned/performance\"))\n",
    "add_info(calibrated_seperate_amda_pruned)\n",
    "calibrated_seperate_amda_pruned = calibrated_seperate_amda_pruned.sort_values(by=\"Model Size\")\n",
    "calibrated_seperate_amda_pruned.to_csv('csv/calibrated_seperate_amda_pruned.csv')\n",
    "print('calibrated seperate amda pruned done')"
   ]
  },
  {
   "cell_type": "code",
   "execution_count": null,
   "id": "cf02484b-b145-405a-98a2-b672c8cf784a",
   "metadata": {},
   "outputs": [],
   "source": []
  },
  {
   "cell_type": "code",
   "execution_count": null,
   "id": "c39a9bf6-7c19-4364-8f7e-1602cca11f87",
   "metadata": {},
   "outputs": [],
   "source": [
    "calibrated_seperate_std_pruned=collect(Path(\"/work/dlclarge1/agnihotr-ensemble/calibrated/resnet18/standard/pruned/performance\"))\n",
    "add_info(calibrated_seperate_std_pruned)\n",
    "calibrated_seperate_std_pruned = calibrated_seperate_std_pruned.sort_values(by=\"Model Size\")\n",
    "calibrated_seperate_std_pruned.to_csv('csv/calibrated_seperate_std_pruned.csv')\n",
    "print('calibrated seperate std pruned done')"
   ]
  },
  {
   "cell_type": "code",
   "execution_count": null,
   "id": "c264ad7a-f2f0-4869-a884-28c276d9895f",
   "metadata": {},
   "outputs": [],
   "source": []
  },
  {
   "cell_type": "code",
   "execution_count": null,
   "id": "157a357b-1d35-444c-91ac-766e4b25c79b",
   "metadata": {},
   "outputs": [],
   "source": [
    "calibrated_seperate_amda_base=pd.read_csv('csv/calibrated_seperate_amda_base.csv')\n",
    "calibrated_seperate_amda_pruned=pd.read_csv('csv/calibrated_seperate_amda_pruned.csv')\n",
    "calibrated_seperate_amda=calibrated_seperate_amda_base.append(calibrated_seperate_amda_pruned, ignore_index=True)\n",
    "calibrated_seperate_amda=calibrated_seperate_amda.sort_values(by=\"Model Size\")\n",
    "calibrated_seperate_amda[\"Name\"] = [\"Calibrated Prune-Train seperate\",\"Calibrated Prune-Train seperate\",\"Calibrated Prune-Train seperate\",\"Calibrated Prune-Train seperate\",\"Calibrated Prune-Train seperate\",\"Calibrated Prune-Train seperate\"]\n",
    "calibrated_seperate_amda.to_csv('csv/calibrated_seperate_amda.csv')\n",
    "print('calibrated seperate amda done')"
   ]
  },
  {
   "cell_type": "code",
   "execution_count": null,
   "id": "28975d72-5f3f-4dd5-9e33-70c5573f0e41",
   "metadata": {},
   "outputs": [],
   "source": []
  },
  {
   "cell_type": "code",
   "execution_count": null,
   "id": "6b94c2cc-239b-4f26-bbff-a89b44559224",
   "metadata": {},
   "outputs": [],
   "source": [
    "calibrated_seperate_std_base=pd.read_csv('csv/calibrated_seperate_std_base.csv')\n",
    "calibrated_seperate_std_pruned=pd.read_csv('csv/calibrated_seperate_std_pruned.csv')\n",
    "calibrated_seperate_std=calibrated_seperate_std_base.append(calibrated_seperate_std_pruned, ignore_index=True)\n",
    "calibrated_seperate_std=calibrated_seperate_std.sort_values(by=\"Model Size\")\n",
    "calibrated_seperate_std[\"Name\"] = [\"Calibrated Prune-Train seperate\",\"Calibrated Prune-Train seperate\",\"Calibrated Prune-Train seperate\",\"Calibrated Prune-Train seperate\",\"Calibrated Prune-Train seperate\",\"Calibrated Prune-Train seperate\"]\n",
    "calibrated_seperate_std.to_csv('csv/calibrated_seperate_std.csv')\n",
    "print('calibrated seperate std done')"
   ]
  },
  {
   "cell_type": "code",
   "execution_count": null,
   "id": "833d1c02-108e-4552-ab48-960ffcb7e44e",
   "metadata": {},
   "outputs": [],
   "source": []
  },
  {
   "cell_type": "code",
   "execution_count": null,
   "id": "f72f652b-d31c-4a49-acf1-34d8844dc15e",
   "metadata": {},
   "outputs": [],
   "source": []
  },
  {
   "cell_type": "code",
   "execution_count": null,
   "id": "84669868-c76f-4d91-b1f5-8a2c72e727d4",
   "metadata": {},
   "outputs": [],
   "source": []
  },
  {
   "cell_type": "code",
   "execution_count": null,
   "id": "a51bd9c9-61c6-4c18-9683-d29ea3f8e3b1",
   "metadata": {},
   "outputs": [],
   "source": []
  },
  {
   "cell_type": "code",
   "execution_count": null,
   "id": "2b218334-04e9-4260-907d-790ac0f92add",
   "metadata": {},
   "outputs": [],
   "source": [
    "baseline_path = Path(\"/work/dlclarge1/agnihotr-ensemble/baselines\")\n",
    "baseline=collect(baseline_path).query(\"Scaling == 1\")\n",
    "\n",
    "std_baseline=baseline.query(\"Network=='resnet18' and not Amda\")\n",
    "add_info(std_baseline)\n",
    "std_baseline.to_csv('csv/baseline_std.csv')\n",
    "print('baseline std done')"
   ]
  },
  {
   "cell_type": "code",
   "execution_count": null,
   "id": "49511c6f-9ad2-49d5-aa95-c46b24c68803",
   "metadata": {},
   "outputs": [],
   "source": []
  },
  {
   "cell_type": "code",
   "execution_count": null,
   "id": "829e7a33-148f-4aa9-a3c2-a3e99bc16a32",
   "metadata": {},
   "outputs": [],
   "source": [
    "baseline_path = Path(\"/work/dlclarge1/agnihotr-ensemble/baselines\")\n",
    "baseline=collect(baseline_path).query(\"Scaling == 1\")\n",
    "\n",
    "amda_baseline=baseline.query(\"Network=='resnet18' and Amda\")\n",
    "add_info(amda_baseline)\n",
    "amda_baseline.to_csv('csv/baseline_amda.csv')\n",
    "print('baseline amda done')"
   ]
  },
  {
   "cell_type": "code",
   "execution_count": null,
   "id": "144e4c42-63ce-4be2-b5a6-72e61cfe92ff",
   "metadata": {},
   "outputs": [],
   "source": []
  },
  {
   "cell_type": "code",
   "execution_count": null,
   "id": "d2e057b4-4cbc-4927-bb77-33a6ba8e3c90",
   "metadata": {},
   "outputs": [],
   "source": []
  },
  {
   "cell_type": "code",
   "execution_count": null,
   "id": "cb7222fe-2ffd-4463-a1ed-63afc6f8ea67",
   "metadata": {},
   "outputs": [],
   "source": [
    "multi_std_base=collect(Path(\"/work/dlclarge1/agnihotr-ensemble/multiheaded/imagenet100\")).query(\"Path=='/work/dlclarge1/agnihotr-ensemble/multiheaded/imagenet100/standard'\")\n",
    "multi_std_pruned=collect(Path(\"/work/dlclarge1/agnihotr-ensemble/multiheaded/imagenet100/standard/l1_global\"))\n",
    "multi_std=multi_std_base.append(multi_std_pruned)\n",
    "add_info(multi_std)\n",
    "multi_std=multi_std.sort_values(by=\"Model Size\")\n",
    "multi_std[\"Name\"]=[\"Multiheaded Ensemble\", \"Multiheaded Ensemble\", \"Multiheaded Ensemble\", \"Multiheaded Ensemble\", \"Multiheaded Ensemble\", \"Multiheaded Ensemble\", \"Multiheaded Ensemble\"]\n",
    "multi_std.to_csv('csv/mutil_std.csv')\n",
    "print('multiheaded std done')"
   ]
  },
  {
   "cell_type": "code",
   "execution_count": null,
   "id": "aad3760e-b5cd-47db-925f-9ebd7c567b82",
   "metadata": {},
   "outputs": [],
   "source": []
  },
  {
   "cell_type": "code",
   "execution_count": null,
   "id": "82616213-3322-4a40-b682-b2a7b39eb8d3",
   "metadata": {},
   "outputs": [],
   "source": [
    "multi_amda_base=collect(Path(\"/work/dlclarge1/agnihotr-ensemble/multiheaded/imagenet100\")).query(\"Path=='/work/dlclarge1/agnihotr-ensemble/multiheaded/imagenet100/amda'\")\n",
    "multi_amda_pruned=collect(Path(\"/work/dlclarge1/agnihotr-ensemble/multiheaded/imagenet100/amda/l1_global_actual\"))\n",
    "multi_amda=multi_amda_base.append(multi_amda_pruned)\n",
    "add_info(multi_amda)\n",
    "multi_amda=multi_amda.sort_values(by=\"Model Size\")\n",
    "multi_amda[\"Name\"]=[\"Multiheaded Ensemble\", \"Multiheaded Ensemble\", \"Multiheaded Ensemble\", \"Multiheaded Ensemble\", \"Multiheaded Ensemble\", \"Multiheaded Ensemble\", \"Multiheaded Ensemble\"]\n",
    "multi_amda.to_csv('csv/mutil_amda.csv')\n",
    "print('multiheaded amda done')"
   ]
  },
  {
   "cell_type": "code",
   "execution_count": null,
   "id": "883415c7-8cab-4d8b-b94a-250d91003721",
   "metadata": {},
   "outputs": [],
   "source": []
  },
  {
   "cell_type": "code",
   "execution_count": null,
   "id": "7aea9641-6b9e-4aaa-93b0-97995fb3ebe7",
   "metadata": {},
   "outputs": [],
   "source": []
  },
  {
   "cell_type": "code",
   "execution_count": null,
   "id": "d3b7181a-06d2-44b9-aa49-f859c67a7c21",
   "metadata": {},
   "outputs": [],
   "source": []
  }
 ],
 "metadata": {
  "kernelspec": {
   "display_name": "Python 3 (ipykernel)",
   "language": "python",
   "name": "python3"
  },
  "language_info": {
   "codemirror_mode": {
    "name": "ipython",
    "version": 3
   },
   "file_extension": ".py",
   "mimetype": "text/x-python",
   "name": "python",
   "nbconvert_exporter": "python",
   "pygments_lexer": "ipython3",
   "version": "3.8.10"
  }
 },
 "nbformat": 4,
 "nbformat_minor": 5
}

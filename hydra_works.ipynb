{
 "cells": [
  {
   "cell_type": "code",
   "execution_count": 26,
   "metadata": {},
   "outputs": [],
   "source": [
    "import os\n",
    "from pathlib import Path\n",
    "import math\n",
    "from functools import partial\n",
    "from argparse import Namespace\n",
    "\n",
    "import torch\n",
    "import torch.nn as nn\n",
    "import torch.autograd as autograd\n",
    "import torch.optim as optim\n",
    "from torch.nn.utils.prune import custom_from_mask\n",
    "import pytorch_lightning as pl\n",
    "from pytorch_lightning.callbacks import LearningRateMonitor\n",
    "from torch.optim import SGD\n",
    "import matplotlib.pyplot as plt\n",
    "\n",
    "from pruneshift.modules import VisionModule\n",
    "from pruneshift.networks import network as create_network\n",
    "from pruneshift.datamodules import datamodule\n",
    "from pruneshift.prune_info import PruneInfo\n",
    "from pruneshift.prune import prune\n",
    "\n",
    "\n",
    "DATASET_PATH = os.environ[\"DATASET_PATH\"]\n",
    "MODEL_PATH = Path(os.environ[\"MODEL_PATH\"])/\"hydra\""
   ]
  },
  {
   "cell_type": "code",
   "execution_count": 27,
   "metadata": {},
   "outputs": [],
   "source": [
    "from hydro.models import resnet18\n",
    "from hydro.models.layers import SubnetLinear, SubnetConv\n",
    "from hydro.utils.model import prepare_model, initialize_scaled_score\n"
   ]
  },
  {
   "cell_type": "code",
   "execution_count": 28,
   "metadata": {},
   "outputs": [
    {
     "name": "stdout",
     "output_type": "stream",
     "text": [
      "#################### Pruning network ####################\n",
      "===>>  gradient for weights: None  | training importance scores only\n",
      "Initialization relevance score with kaiming_uniform initialization\n",
      "Initialization relevance score proportional to weight magnitudes (OVERWRITING SOURCE NET SCORES)\n"
     ]
    }
   ],
   "source": [
    "net = resnet18(SubnetConv, SubnetLinear, \"kaiming_normal\")\n",
    "args = Namespace(freeze_bn = False, k = 0.02, scores_init_type = \"kaiming_uniform\", exp_mode=\"prune\")\n",
    "prepare_model(net, args)\n",
    "state = torch.load(MODEL_PATH/\"cifar100_resnet18.0\")\n",
    "net.load_state_dict(state, strict=False)\n",
    "initialize_scaled_score(net)"
   ]
  },
  {
   "cell_type": "code",
   "execution_count": 29,
   "metadata": {},
   "outputs": [
    {
     "name": "stderr",
     "output_type": "stream",
     "text": [
      "GPU available: True, used: True\n",
      "I0130 22:18:11.433606 140023598487360 distributed.py:49] GPU available: True, used: True\n",
      "TPU available: False, using: 0 TPU cores\n",
      "I0130 22:18:11.440435 140023598487360 distributed.py:49] TPU available: False, using: 0 TPU cores\n",
      "LOCAL_RANK: 0 - CUDA_VISIBLE_DEVICES: [0,1]\n",
      "I0130 22:18:11.442483 140023598487360 accelerator_connector.py:402] LOCAL_RANK: 0 - CUDA_VISIBLE_DEVICES: [0,1]\n"
     ]
    },
    {
     "name": "stdout",
     "output_type": "stream",
     "text": [
      "Files already downloaded and verified\n",
      "Files already downloaded and verified\n"
     ]
    },
    {
     "data": {
      "application/vnd.jupyter.widget-view+json": {
       "model_id": "",
       "version_major": 2,
       "version_minor": 0
      },
      "text/plain": [
       "HBox(children=(HTML(value='Validation sanity check'), FloatProgress(value=1.0, bar_style='info', layout=Layout…"
      ]
     },
     "metadata": {},
     "output_type": "display_data"
    },
    {
     "data": {
      "application/vnd.jupyter.widget-view+json": {
       "model_id": "db469c7f33be42bc94cc99b228663f00",
       "version_major": 2,
       "version_minor": 0
      },
      "text/plain": [
       "HBox(children=(HTML(value='Training'), FloatProgress(value=1.0, bar_style='info', layout=Layout(flex='2'), max…"
      ]
     },
     "metadata": {},
     "output_type": "display_data"
    },
    {
     "data": {
      "application/vnd.jupyter.widget-view+json": {
       "model_id": "",
       "version_major": 2,
       "version_minor": 0
      },
      "text/plain": [
       "HBox(children=(HTML(value='Validating'), FloatProgress(value=1.0, bar_style='info', layout=Layout(flex='2'), m…"
      ]
     },
     "metadata": {},
     "output_type": "display_data"
    },
    {
     "data": {
      "application/vnd.jupyter.widget-view+json": {
       "model_id": "",
       "version_major": 2,
       "version_minor": 0
      },
      "text/plain": [
       "HBox(children=(HTML(value='Validating'), FloatProgress(value=1.0, bar_style='info', layout=Layout(flex='2'), m…"
      ]
     },
     "metadata": {},
     "output_type": "display_data"
    },
    {
     "data": {
      "application/vnd.jupyter.widget-view+json": {
       "model_id": "",
       "version_major": 2,
       "version_minor": 0
      },
      "text/plain": [
       "HBox(children=(HTML(value='Validating'), FloatProgress(value=1.0, bar_style='info', layout=Layout(flex='2'), m…"
      ]
     },
     "metadata": {},
     "output_type": "display_data"
    },
    {
     "data": {
      "application/vnd.jupyter.widget-view+json": {
       "model_id": "",
       "version_major": 2,
       "version_minor": 0
      },
      "text/plain": [
       "HBox(children=(HTML(value='Validating'), FloatProgress(value=1.0, bar_style='info', layout=Layout(flex='2'), m…"
      ]
     },
     "metadata": {},
     "output_type": "display_data"
    },
    {
     "data": {
      "application/vnd.jupyter.widget-view+json": {
       "model_id": "",
       "version_major": 2,
       "version_minor": 0
      },
      "text/plain": [
       "HBox(children=(HTML(value='Validating'), FloatProgress(value=1.0, bar_style='info', layout=Layout(flex='2'), m…"
      ]
     },
     "metadata": {},
     "output_type": "display_data"
    },
    {
     "data": {
      "application/vnd.jupyter.widget-view+json": {
       "model_id": "",
       "version_major": 2,
       "version_minor": 0
      },
      "text/plain": [
       "HBox(children=(HTML(value='Validating'), FloatProgress(value=1.0, bar_style='info', layout=Layout(flex='2'), m…"
      ]
     },
     "metadata": {},
     "output_type": "display_data"
    },
    {
     "data": {
      "application/vnd.jupyter.widget-view+json": {
       "model_id": "",
       "version_major": 2,
       "version_minor": 0
      },
      "text/plain": [
       "HBox(children=(HTML(value='Validating'), FloatProgress(value=1.0, bar_style='info', layout=Layout(flex='2'), m…"
      ]
     },
     "metadata": {},
     "output_type": "display_data"
    },
    {
     "data": {
      "application/vnd.jupyter.widget-view+json": {
       "model_id": "",
       "version_major": 2,
       "version_minor": 0
      },
      "text/plain": [
       "HBox(children=(HTML(value='Validating'), FloatProgress(value=1.0, bar_style='info', layout=Layout(flex='2'), m…"
      ]
     },
     "metadata": {},
     "output_type": "display_data"
    },
    {
     "data": {
      "application/vnd.jupyter.widget-view+json": {
       "model_id": "",
       "version_major": 2,
       "version_minor": 0
      },
      "text/plain": [
       "HBox(children=(HTML(value='Validating'), FloatProgress(value=1.0, bar_style='info', layout=Layout(flex='2'), m…"
      ]
     },
     "metadata": {},
     "output_type": "display_data"
    },
    {
     "data": {
      "application/vnd.jupyter.widget-view+json": {
       "model_id": "",
       "version_major": 2,
       "version_minor": 0
      },
      "text/plain": [
       "HBox(children=(HTML(value='Validating'), FloatProgress(value=1.0, bar_style='info', layout=Layout(flex='2'), m…"
      ]
     },
     "metadata": {},
     "output_type": "display_data"
    },
    {
     "data": {
      "application/vnd.jupyter.widget-view+json": {
       "model_id": "",
       "version_major": 2,
       "version_minor": 0
      },
      "text/plain": [
       "HBox(children=(HTML(value='Validating'), FloatProgress(value=1.0, bar_style='info', layout=Layout(flex='2'), m…"
      ]
     },
     "metadata": {},
     "output_type": "display_data"
    },
    {
     "data": {
      "application/vnd.jupyter.widget-view+json": {
       "model_id": "",
       "version_major": 2,
       "version_minor": 0
      },
      "text/plain": [
       "HBox(children=(HTML(value='Validating'), FloatProgress(value=1.0, bar_style='info', layout=Layout(flex='2'), m…"
      ]
     },
     "metadata": {},
     "output_type": "display_data"
    },
    {
     "name": "stdout",
     "output_type": "stream",
     "text": [
      "\n"
     ]
    },
    {
     "data": {
      "text/plain": [
       "1"
      ]
     },
     "execution_count": 29,
     "metadata": {},
     "output_type": "execute_result"
    }
   ],
   "source": [
    "T = 10000\n",
    "optim_fn = partial(optim.SGD, nesterov=True, weight_decay= 0.0005, momentum= 0.9)\n",
    "scheduler_fn = partial(optim.lr_scheduler.CosineAnnealingLR, T_max=T)\n",
    "\n",
    "lr_monitor = LearningRateMonitor(logging_interval='step')\n",
    "callbacks = [lr_monitor]\n",
    "trainer = pl.Trainer(gpus=1, max_epochs=12, callbacks=[lr_monitor], checkpoint_callback=False, weights_summary=None)\n",
    "\n",
    "# net.conv1.is_protected = True\n",
    "# net.fc.is_protected = False\n",
    "data = datamodule(\"cifar100\", DATASET_PATH, batch_size=128)\n",
    "\n",
    "module = VisionModule(net, data.labels, optimizer_fn=optim_fn, learning_rate=0.1, scheduler_fn=scheduler_fn)\n",
    "\n",
    "trainer.fit(module, datamodule=data)"
   ]
  },
  {
   "cell_type": "code",
   "execution_count": 61,
   "metadata": {},
   "outputs": [
    {
     "name": "stdout",
     "output_type": "stream",
     "text": [
      "#################### Pruning network ####################\n",
      "===>>  gradient for weights: None  | training importance scores only\n",
      "Initialization relevance score with kaiming_uniform initialization\n",
      "Initialization relevance score proportional to weight magnitudes (OVERWRITING SOURCE NET SCORES)\n",
      ">>> Mask  tensor([[1., 0., 0., 0.],\n",
      "        [1., 0., 0., 0.]], grad_fn=<GetSubnetBackward>)\n",
      "tensor([[1., 0., 0., 0.],\n",
      "        [1., -0., 0., 0.]], grad_fn=<MulBackward0>)\n",
      "tensor([[1.2000, 2.2000]], grad_fn=<AddmmBackward>)\n",
      ">>>>>>>>>>SANITY CHECK\n",
      ">>>>>>>>Net\n",
      "[('0.weight', Parameter containing:\n",
      "tensor([[ 1.0000,  0.5000,  0.1000,  0.5000],\n",
      "        [ 1.0000, -0.5000,  0.1000,  0.5000]])), ('0.bias', Parameter containing:\n",
      "tensor([1., 2.])), ('0.popup_scores', Parameter containing:\n",
      "tensor([[ 1.2247,  0.6124,  0.1225,  0.6124],\n",
      "        [ 1.2247, -0.6124,  0.1225,  0.6124]], requires_grad=True)), ('1.weight', Parameter containing:\n",
      "tensor([[1.5000, 1.0000]], requires_grad=True)), ('1.bias', Parameter containing:\n",
      "tensor([1.], requires_grad=True))]\n",
      ">>>>>>Forward\n",
      "tensor([[5.]], grad_fn=<AddmmBackward>)\n",
      "[]\n",
      "\n",
      "\n",
      "[('weight', Parameter containing:\n",
      "tensor([[ 1.0000,  0.5000,  0.1000,  0.5000],\n",
      "        [ 1.0000, -0.5000,  0.1000,  0.5000]])), ('bias', Parameter containing:\n",
      "tensor([1., 2.])), ('popup_scores', Parameter containing:\n",
      "tensor([[ 1.2247,  0.6124,  0.1225,  0.6124],\n",
      "        [ 1.2247, -0.6124,  0.1225,  0.6124]], requires_grad=True))]\n",
      "\n",
      "\n",
      "\n",
      "[]\n",
      "\n",
      "\n",
      "[('weight', Parameter containing:\n",
      "tensor([[ 1.0000,  0.5000,  0.1000,  0.5000],\n",
      "        [ 1.0000, -0.5000,  0.1000,  0.5000]])), ('bias', Parameter containing:\n",
      "tensor([1., 2.])), ('popup_scores', Parameter containing:\n",
      "tensor([[ 0.9247, -0.1376,  0.0925, -0.1376],\n",
      "        [ 1.0247, -1.1124,  0.1025,  0.1124]], requires_grad=True))]\n",
      ">>>>>>>>Grad\n",
      "tensor([[1.2000, 2.2000]])\n",
      ">>>>>>>>Net\n",
      "[('0.weight', Parameter containing:\n",
      "tensor([[ 1.0000,  0.5000,  0.1000,  0.5000],\n",
      "        [ 1.0000, -0.5000,  0.1000,  0.5000]])), ('0.bias', Parameter containing:\n",
      "tensor([1., 2.])), ('0.popup_scores', Parameter containing:\n",
      "tensor([[ 0.9247, -0.1376,  0.0925, -0.1376],\n",
      "        [ 1.0247, -1.1124,  0.1025,  0.1124]], requires_grad=True)), ('1.weight', Parameter containing:\n",
      "tensor([[ 0.3000, -1.2000]], requires_grad=True)), ('1.bias', Parameter containing:\n",
      "tensor([0.], requires_grad=True))]\n"
     ]
    }
   ],
   "source": [
    "from torch.nn import Parameter\n",
    "from hydro.models.layers import GetSubnet\n",
    "import torch.nn.functional as F\n",
    "\n",
    "class SubnetLinear(nn.Linear):\n",
    "    # self.k is the % of weights remaining, a real number in [0,1]\n",
    "    # self.popup_scores is a Parameter which has the same shape as self.weight\n",
    "    # Gradients to self.weight, self.bias have been turned off.\n",
    "\n",
    "    def __init__(self, in_features, out_features, bias=True):\n",
    "        super(SubnetLinear, self).__init__(in_features, out_features, bias=True)\n",
    "        self.popup_scores = Parameter(torch.Tensor(self.weight.shape))\n",
    "        nn.init.kaiming_uniform_(self.popup_scores, a=math.sqrt(5))\n",
    "        self.weight.requires_grad = False\n",
    "        self.bias.requires_grad = False\n",
    "        self.w = 0\n",
    "        # self.register_buffer('w', None)\n",
    "\n",
    "    def set_prune_rate(self, k):\n",
    "        self.k = k\n",
    "\n",
    "    def forward(self, x):\n",
    "        # Get the subnetwork by sorting the scores.\n",
    "        adj = GetSubnet.apply(self.popup_scores.abs(), self.k)\n",
    "        print(\">>> Mask \", adj)\n",
    "        # Use only the subnetwork in the forward pass.\n",
    "        self.w = self.weight * adj\n",
    "        x = F.linear(x, self.w, self.bias)\n",
    "        print(self.w)\n",
    "        print(x)\n",
    "\n",
    "        return x\n",
    "\n",
    "\n",
    "pl.seed_everything(0)\n",
    "module = SubnetLinear(4, 2)\n",
    "net = nn.Sequential(module, nn.Linear(2, 1))\n",
    "args = Namespace(freeze_bn = False, k = 0.25, scores_init_type = \"kaiming_uniform\", exp_mode=\"prune\")\n",
    "\n",
    "module.weight = nn.Parameter(torch.tensor([[1., 0.5, 0.1, 0.5],\n",
    "                                           [1., -0.5, 0.1 ,0.5 ]]))\n",
    "module.bias = nn.Parameter(torch.tensor([1., 2.]))\n",
    "\n",
    "net[1].weight = nn.Parameter(torch.tensor([[1.5,\n",
    "                                            1.]]))\n",
    "net[1].bias = nn.Parameter(torch.tensor([1.]))\n",
    "\n",
    "prepare_model(module, args)\n",
    "initialize_scaled_score(net)\n",
    "\n",
    "\n",
    "o = optim.SGD(net.parameters(), lr=1)\n",
    "result = net(torch.tensor([[0.2, 1, 0.2, 1]]))\n",
    "\n",
    "print(\">>>>>>>>>>SANITY CHECK\")\n",
    "print(\">>>>>>>>Net\")\n",
    "print(list(net.named_parameters()))\n",
    "print(\">>>>>>Forward\")\n",
    "print(result)\n",
    "print([(n, b) for n, b in module.named_buffers()])\n",
    "print(\"\\n\")\n",
    "print([(n, b) for n, b in module.named_parameters()])\n",
    "result.backward()\n",
    "o.step()\n",
    "print(\"\\n\\n\")\n",
    "print([(n, b) for n, b in module.named_buffers()])\n",
    "print(\"\\n\")\n",
    "print([(n, b) for n, b in module.named_parameters()])\n",
    "print(\">>>>>>>>Grad\")\n",
    "print(net[1].weight.grad)\n",
    "print(\">>>>>>>>Net\")\n",
    "print(list(net.named_parameters()))"
   ]
  },
  {
   "cell_type": "code",
   "execution_count": null,
   "metadata": {},
   "outputs": [],
   "source": []
  },
  {
   "cell_type": "code",
   "execution_count": null,
   "metadata": {},
   "outputs": [],
   "source": []
  }
 ],
 "metadata": {
  "kernelspec": {
   "display_name": "Theseus",
   "language": "python",
   "name": "theseus"
  },
  "language_info": {
   "codemirror_mode": {
    "name": "ipython",
    "version": 3
   },
   "file_extension": ".py",
   "mimetype": "text/x-python",
   "name": "python",
   "nbconvert_exporter": "python",
   "pygments_lexer": "ipython3",
   "version": "3.6.8"
  }
 },
 "nbformat": 4,
 "nbformat_minor": 4
}

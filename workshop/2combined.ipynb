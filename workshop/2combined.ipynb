{
 "cells": [
  {
   "cell_type": "code",
   "execution_count": 1,
   "id": "duplicate-japanese",
   "metadata": {},
   "outputs": [],
   "source": [
    "from utils import collect\n",
    "from pathlib import Path\n",
    "import matplotlib.pyplot as plt\n",
    "import seaborn as sns\n",
    "import pandas as pd\n",
    "from math import pi\n",
    "import plotly.express as px\n",
    "import plotly.graph_objects as go\n",
    "import plotly.io as pio\n",
    "import numpy as np\n",
    "\n",
    "\n",
    "from pruneshift.networks import create_network\n",
    "from pruneshift.prune_info import PruneInfo\n",
    "from pruneshift.utils import get_model_complexity_prune\n",
    "\n",
    "pio.renderers.default = 'iframe'\n",
    "\n",
    "paths_combined = [Path(\"/work/dlclarge2/hoffmaja-pruneshift/shashank_runs/icml_runs_new/amda_resnet/\")]\n",
    "                  # Path(\"/work/dlclarge2/hoffmaja-pruneshift/shashank_runs/icml_runs/new/amda_resnet/l1_channels\")]\n",
    "                 # Path(\"/work/dlclarge2/hoffmaja-pruneshift/shashank_runs/icml_runs_new/mnasnet/\"),\n",
    "                 # Path(\"/work/dlclarge2/hoffmaja-pruneshift/shashank_runs/icml_runs_new/mobilenet_v2/\")]\n",
    "# path = Path(\"/work/dlclarge2/hoffmaja-pruneshift/experiments/img100/workshop/pruning\")\n",
    "path_baseline = Path(\"/work/dlclarge2/hoffmaja-pruneshift/experiments/img100/basemodels/resnet18_amda/\")\n",
    "# scaled_path = Path(\"/work/dlclarge2/hoffmaja-pruneshift/experiments/img100/basemodels/scaled_resnet18/\")\n",
    "# path_kd = Path(\"/work/dlclarge2/hoffmaja-pruneshift/experiments/img100/analysis/knowledge/\")\n",
    "sns.set_context(\"talk\")\n",
    "sns.set_style(\"ticks\")"
   ]
  },
  {
   "cell_type": "code",
   "execution_count": 24,
   "id": "architectural-comedy",
   "metadata": {},
   "outputs": [],
   "source": [
    "df_comb = collect(*paths_combined).query(\"Network == 'resnet18' & Scaling == 1.45 & not Teacher.isnull()\")\n",
    "df_baseline = collect(path_baseline)"
   ]
  },
  {
   "cell_type": "code",
   "execution_count": 25,
   "id": "suburban-forum",
   "metadata": {},
   "outputs": [],
   "source": [
    "df_pair = pd.concat([df_comb, df_baseline])"
   ]
  },
  {
   "cell_type": "code",
   "execution_count": 26,
   "id": "altered-minneapolis",
   "metadata": {},
   "outputs": [],
   "source": [
    "def calculate_info(row):\n",
    "    path = Path(row[\"Path\"]) / \"checkpoint/last.ckpt\"\n",
    "    print(path)\n",
    "    if not path.is_file():\n",
    "        return np.NaN, np.NaN\n",
    "    net = create_network(\"imagenet\", row[\"Network\"], 100, ckpt_path=path, scaling_factor=row[\"Scaling\"])\n",
    "    size = PruneInfo(net).network_size()\n",
    "    macs, _ = get_model_complexity_prune(net, input_res=(3, 224, 224))\n",
    "    return macs, size\n",
    "\n",
    "def add_info(df):\n",
    "    df[[\"MACs\", \"Model Size\"]] = df[[\"Path\", \"Scaling\", \"Network\"]].apply(calculate_info, axis=1, result_type=\"expand\")\n",
    "    return df"
   ]
  },
  {
   "cell_type": "code",
   "execution_count": 27,
   "id": "broken-franchise",
   "metadata": {},
   "outputs": [
    {
     "name": "stdout",
     "output_type": "stream",
     "text": [
      "/work/dlclarge2/hoffmaja-pruneshift/shashank_runs/icml_runs_new/amda_resnet/new/amda_resnet/global_weight/resnet18_scaled_1.0_kd_amda/checkpoint/last.ckpt\n",
      "/work/dlclarge2/hoffmaja-pruneshift/shashank_runs/icml_runs_new/amda_resnet/new/amda_resnet/global_weight/resnet18_scaled_0.5_kd_amda/checkpoint/last.ckpt\n",
      "/work/dlclarge2/hoffmaja-pruneshift/shashank_runs/icml_runs_new/amda_resnet/new/amda_resnet/global_weight/resnet50_amda_to_resnet18_2/checkpoint/last.ckpt\n",
      "/work/dlclarge2/hoffmaja-pruneshift/shashank_runs/icml_runs_new/amda_resnet/new/amda_resnet/testing_l1_channels/resnet18_scaled_0.5_kd_amda/checkpoint/last.ckpt\n",
      "/work/dlclarge2/hoffmaja-pruneshift/shashank_runs/icml_runs_new/amda_resnet/new/amda_resnet/l1_channels/resnet18_scaled_0.5_kd_amda/checkpoint/last.ckpt\n",
      "/work/dlclarge2/hoffmaja-pruneshift/shashank_runs/icml_runs_new/amda_resnet/new/amda_resnet/l1_channels/resnet18_scaled_1.0_kd_amda/checkpoint/last.ckpt\n",
      "/work/dlclarge2/hoffmaja-pruneshift/shashank_runs/icml_runs_new/amda_resnet/new/amda_resnet/l1_channels/resnet18_scaled_1.5_kd_amda/checkpoint/last.ckpt\n",
      "/work/dlclarge2/hoffmaja-pruneshift/shashank_runs/icml_runs_new/amda_resnet/new/amda_resnet/global_weight/resnet18_scaled_1.5_kd_amda/checkpoint/last.ckpt\n",
      "/work/dlclarge2/hoffmaja-pruneshift/experiments/img100/basemodels/resnet18_amda/checkpoint/last.ckpt\n"
     ]
    }
   ],
   "source": [
    "df_pair = add_info(df_pair)\n",
    "# MAcs, ModelSize, Errors"
   ]
  },
  {
   "cell_type": "code",
   "execution_count": 6,
   "id": "consistent-fellow",
   "metadata": {},
   "outputs": [
    {
     "data": {
      "text/html": [
       "<div>\n",
       "<style scoped>\n",
       "    .dataframe tbody tr th:only-of-type {\n",
       "        vertical-align: middle;\n",
       "    }\n",
       "\n",
       "    .dataframe tbody tr th {\n",
       "        vertical-align: top;\n",
       "    }\n",
       "\n",
       "    .dataframe thead th {\n",
       "        text-align: right;\n",
       "    }\n",
       "</style>\n",
       "<table border=\"1\" class=\"dataframe\">\n",
       "  <thead>\n",
       "    <tr style=\"text-align: right;\">\n",
       "      <th></th>\n",
       "      <th>Amda</th>\n",
       "      <th>Augmix</th>\n",
       "      <th>DeepAugment</th>\n",
       "      <th>ImageNet100 Error</th>\n",
       "      <th>ImageNet100-C Error</th>\n",
       "      <th>ImageNet100-R Error</th>\n",
       "      <th>Loss</th>\n",
       "      <th>Network</th>\n",
       "      <th>Path</th>\n",
       "      <th>Prune Amount</th>\n",
       "      <th>Prune Method</th>\n",
       "      <th>Scaling</th>\n",
       "      <th>Teacher</th>\n",
       "      <th>MACs</th>\n",
       "      <th>Model Size</th>\n",
       "    </tr>\n",
       "  </thead>\n",
       "  <tbody>\n",
       "    <tr>\n",
       "      <th>180</th>\n",
       "      <td>True</td>\n",
       "      <td>True</td>\n",
       "      <td>True</td>\n",
       "      <td>0.0770</td>\n",
       "      <td>0.226205</td>\n",
       "      <td>0.467538</td>\n",
       "      <td>KnowledgeDistill</td>\n",
       "      <td>resnet18</td>\n",
       "      <td>/work/dlclarge2/hoffmaja-pruneshift/shashank_r...</td>\n",
       "      <td>0.5</td>\n",
       "      <td>global_weight</td>\n",
       "      <td>1.45</td>\n",
       "      <td>Amda Resnet50</td>\n",
       "      <td>2.369886e+09</td>\n",
       "      <td>11760704.0</td>\n",
       "    </tr>\n",
       "    <tr>\n",
       "      <th>180</th>\n",
       "      <td>True</td>\n",
       "      <td>True</td>\n",
       "      <td>True</td>\n",
       "      <td>0.0904</td>\n",
       "      <td>0.252032</td>\n",
       "      <td>0.480277</td>\n",
       "      <td>KnowledgeDistill</td>\n",
       "      <td>resnet18</td>\n",
       "      <td>/work/dlclarge2/hoffmaja-pruneshift/shashank_r...</td>\n",
       "      <td>0.5</td>\n",
       "      <td>l1_channels</td>\n",
       "      <td>1.45</td>\n",
       "      <td>Amda Resnet50</td>\n",
       "      <td>1.945417e+09</td>\n",
       "      <td>11755187.0</td>\n",
       "    </tr>\n",
       "    <tr>\n",
       "      <th>90</th>\n",
       "      <td>True</td>\n",
       "      <td>True</td>\n",
       "      <td>True</td>\n",
       "      <td>0.1278</td>\n",
       "      <td>0.281395</td>\n",
       "      <td>0.535049</td>\n",
       "      <td>StandardLoss</td>\n",
       "      <td>resnet18</td>\n",
       "      <td>/work/dlclarge2/hoffmaja-pruneshift/experiment...</td>\n",
       "      <td>NaN</td>\n",
       "      <td>NaN</td>\n",
       "      <td>1.00</td>\n",
       "      <td>NaN</td>\n",
       "      <td>1.821716e+09</td>\n",
       "      <td>11227812.0</td>\n",
       "    </tr>\n",
       "  </tbody>\n",
       "</table>\n",
       "</div>"
      ],
      "text/plain": [
       "     Amda  Augmix  DeepAugment  ImageNet100 Error  ImageNet100-C Error  \\\n",
       "180  True    True         True             0.0770             0.226205   \n",
       "180  True    True         True             0.0904             0.252032   \n",
       "90   True    True         True             0.1278             0.281395   \n",
       "\n",
       "     ImageNet100-R Error              Loss   Network  \\\n",
       "180             0.467538  KnowledgeDistill  resnet18   \n",
       "180             0.480277  KnowledgeDistill  resnet18   \n",
       "90              0.535049      StandardLoss  resnet18   \n",
       "\n",
       "                                                  Path  Prune Amount  \\\n",
       "180  /work/dlclarge2/hoffmaja-pruneshift/shashank_r...           0.5   \n",
       "180  /work/dlclarge2/hoffmaja-pruneshift/shashank_r...           0.5   \n",
       "90   /work/dlclarge2/hoffmaja-pruneshift/experiment...           NaN   \n",
       "\n",
       "      Prune Method  Scaling        Teacher          MACs  Model Size  \n",
       "180  global_weight     1.45  Amda Resnet50  2.369886e+09  11760704.0  \n",
       "180    l1_channels     1.45  Amda Resnet50  1.945417e+09  11755187.0  \n",
       "90             NaN     1.00            NaN  1.821716e+09  11227812.0  "
      ]
     },
     "execution_count": 6,
     "metadata": {},
     "output_type": "execute_result"
    }
   ],
   "source": [
    "df_pair"
   ]
  },
  {
   "cell_type": "code",
   "execution_count": 7,
   "id": "dietary-arcade",
   "metadata": {},
   "outputs": [],
   "source": [
    "df_comb = df_pair.copy()"
   ]
  },
  {
   "cell_type": "code",
   "execution_count": 8,
   "id": "initial-adjustment",
   "metadata": {},
   "outputs": [],
   "source": [
    "value_vars=[\"MACs\", \"Model Size\", \"ImageNet100 Error\", \"ImageNet100-R Error\", \"ImageNet100-C Error\"]\n",
    "\n",
    "max_error = max(df_comb[var].max() for var in value_vars[2: ])\n",
    "scaling_factor = {\"MACs\": 2e9, \"Model Size\": 2.5e7, \"ImageNet100 Error\": max_error, \"ImageNet100-R Error\": max_error, \"ImageNet100-C Error\": max_error}\n",
    "\n",
    "# First Normalize the values.\n",
    "for var in value_vars:\n",
    "    df_comb[var] /= scaling_factor[var]"
   ]
  },
  {
   "cell_type": "code",
   "execution_count": 9,
   "id": "alternate-dryer",
   "metadata": {},
   "outputs": [
    {
     "data": {
      "text/html": [
       "<iframe\n",
       "    scrolling=\"no\"\n",
       "    width=\"100%\"\n",
       "    height=\"545px\"\n",
       "    src=\"iframe_figures/figure_9.html\"\n",
       "    frameborder=\"0\"\n",
       "    allowfullscreen\n",
       "></iframe>\n"
      ]
     },
     "metadata": {},
     "output_type": "display_data"
    }
   ],
   "source": [
    "fig = go.Figure()\n",
    "\n",
    "for _, row in df_comb.iterrows():\n",
    "    row = row.copy().to_frame().transpose()\n",
    "    r = [row[var].item() for var in value_vars]\n",
    "    distill = \"with\" if not row[\"Teacher\"].isnull().item() == True else \"without\"\n",
    "\n",
    "    \n",
    "    if row[\"Prune Method\"].isnull().item():\n",
    "        prune_method = \"without pruning\"\n",
    "    else:\n",
    "        prune_method = \"with \" + row[\"Prune Method\"].item()\n",
    "        \n",
    "    \n",
    "    \n",
    "    prune_amount = row[\"Prune Amount\"].item()\n",
    "    categories = value_vars\n",
    "    fig.add_trace(go.Scatterpolar(\n",
    "          r=r,\n",
    "          theta=categories,\n",
    "          fill='toself',\n",
    "          name=f'Resnet18 {prune_method} {distill} distillation'\n",
    "    ))\n",
    "\n",
    "fig.update_layout(\n",
    "  polar=dict(\n",
    "    radialaxis=dict(\n",
    "      visible=True,\n",
    "      range=[0, 1.25]\n",
    "    )),\n",
    "  showlegend=True,\n",
    ")\n",
    "\n",
    "fig.show()"
   ]
  },
  {
   "cell_type": "code",
   "execution_count": 17,
   "id": "seasonal-navigator",
   "metadata": {},
   "outputs": [
    {
     "data": {
      "text/plain": [
       "<AxesSubplot:>"
      ]
     },
     "execution_count": 17,
     "metadata": {},
     "output_type": "execute_result"
    },
    {
     "data": {
      "image/png": "[encoded data removed]",
      "text/plain": [
       "<Figure size 432x288 with 1 Axes>"
      ]
     },
     "metadata": {},
     "output_type": "display_data"
    }
   ],
   "source": [
    "pd.plotting.parallel_coordinates(df_pair, \"Teacher\", cols=[\"ImageNet100 Error\", \"ImageNet100-R Error\", \"ImageNet100-C Error\",])"
   ]
  },
  {
   "cell_type": "code",
   "execution_count": 33,
   "id": "surface-treasury",
   "metadata": {},
   "outputs": [],
   "source": [
    "df_filtered = df_pair.query(\"not `Prune Amount`.isnull()\")"
   ]
  },
  {
   "cell_type": "code",
   "execution_count": 36,
   "id": "correct-large",
   "metadata": {},
   "outputs": [
    {
     "data": {
      "text/html": [
       "<iframe\n",
       "    scrolling=\"no\"\n",
       "    width=\"100%\"\n",
       "    height=\"545px\"\n",
       "    src=\"iframe_figures/figure_36.html\"\n",
       "    frameborder=\"0\"\n",
       "    allowfullscreen\n",
       "></iframe>\n"
      ]
     },
     "metadata": {},
     "output_type": "display_data"
    }
   ],
   "source": [
    "import plotly.express as px\n",
    "fig = px.parallel_coordinates(df_filtered, color=\"Prune Amount\",\n",
    "                              dimensions=value_vars,\n",
    "                              color_continuous_scale=px.colors.diverging.Tealrose,\n",
    "                              color_continuous_midpoint=0.5)\n",
    "fig.show()\n"
   ]
  },
  {
   "cell_type": "code",
   "execution_count": null,
   "id": "mexican-reader",
   "metadata": {},
   "outputs": [],
   "source": []
  }
 ],
 "metadata": {
  "kernelspec": {
   "display_name": "Python 3",
   "language": "python",
   "name": "python3"
  },
  "language_info": {
   "codemirror_mode": {
    "name": "ipython",
    "version": 3
   },
   "file_extension": ".py",
   "mimetype": "text/x-python",
   "name": "python",
   "nbconvert_exporter": "python",
   "pygments_lexer": "ipython3",
   "version": "3.8.5"
  }
 },
 "nbformat": 4,
 "nbformat_minor": 5
}

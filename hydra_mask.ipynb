{
 "cells": [
  {
   "cell_type": "code",
   "execution_count": 1,
   "metadata": {},
   "outputs": [],
   "source": [
    "import torch\n",
    "import torch.nn as nn\n",
    "import torch.autograd as autograd"
   ]
  },
  {
   "cell_type": "code",
   "execution_count": 62,
   "metadata": {},
   "outputs": [],
   "source": [
    "def percentile(t, q):\n",
    "    k = 1 + round(.01 * float(q) * (t.numel() - 1))\n",
    "    return t.view(-1).kthvalue(k).values.item()\n",
    "\n",
    "\n",
    "class Maskarade(torch.autograd.Function):\n",
    "    \"\"\" Pretends to be a param!\"\"\"\n",
    "    @staticmethod\n",
    "    def forward(ctx, scores, weight, sparsity):\n",
    "        k_val = percentile(scores, sparsity*100)\n",
    "        # return torch.where(scores < k_val, zeros.to(scores.device), ones.to(scores.device))\n",
    "        mask = scores < k_val\n",
    "        hydrated_weight = weight * mask\n",
    "        return hydrated_weight, mask\n",
    "\n",
    "    @staticmethod\n",
    "    def backward(ctx, g1, g2):\n",
    "        return g1, None, None\n",
    "\n",
    "\n",
    "def register_hooks(module, name, amount):\n",
    "    param = getattr(module, name)\n",
    "    # Register buffers the same way as the pruning model.\n",
    "    del module._parameters[name]\n",
    "    module.register_parameter(name + \"_orig\", param)  # TODO: Should this be a buffer?\n",
    "    module.register_buffer(name + \"_mask\", torch.zeros_like(param))\n",
    "    module.register_parameter(name + \"_score\", nn.Parameter(torch.normal(mean=0, std=1, size=param.shape)))\n",
    "    module.register_buffer(name, torch.zeros_like(param))\n",
    "\n",
    "    def hydra_mask(module_, inputs):\n",
    "        score = getattr(module, name + \"_score\")\n",
    "        weight = getattr(module, name + \"_orig\")\n",
    "        hydrated_weight, mask = Maskarade.apply(score, weight, amount)\n",
    "        setattr(module, name, hydrated_weight)\n",
    "        setattr(module, name + \"_mask\", mask)\n",
    "\n",
    "    module.register_forward_pre_hook(hydra_mask)\n",
    "\n",
    "def hydrate(network: nn.Module, amount: float, init: str):\n",
    "    pass\n",
    "\n",
    "def dehydrate(network: nn.Module):\n",
    "    \"\"\" Change the hydrated network to a normal pruned network.\"\"\"\n",
    "    # 1. Delete pre_forward hooks.\n",
    "    \n",
    "    # 2. Delete the scoring params and make the _orig buffer a parameter.\n",
    "\n",
    "    # 3. Than delete each mask and call the CustomMask method/class from pruned module.\n",
    "    raise NotImplementedError"
   ]
  },
  {
   "cell_type": "code",
   "execution_count": 63,
   "metadata": {},
   "outputs": [],
   "source": [
    "m = nn.Sequential(nn.Linear(1, 4), nn.Linear(4, 1))\n",
    "register_hooks(m[0], \"weight\")"
   ]
  },
  {
   "cell_type": "code",
   "execution_count": 64,
   "metadata": {},
   "outputs": [
    {
     "data": {
      "text/plain": [
       "[('0.bias',\n",
       "  Parameter containing:\n",
       "  tensor([ 0.5925,  0.0846, -0.9099, -0.6454], requires_grad=True)),\n",
       " ('0.weight_orig',\n",
       "  Parameter containing:\n",
       "  tensor([[-0.7632],\n",
       "          [ 0.2147],\n",
       "          [-0.1644],\n",
       "          [ 0.4362]], requires_grad=True)),\n",
       " ('0.weight_score',\n",
       "  Parameter containing:\n",
       "  tensor([[-0.5151],\n",
       "          [-0.5813],\n",
       "          [-0.9485],\n",
       "          [ 0.3997]], requires_grad=True)),\n",
       " ('1.weight',\n",
       "  Parameter containing:\n",
       "  tensor([[-0.4225,  0.3531,  0.3221,  0.3617]], requires_grad=True)),\n",
       " ('1.bias',\n",
       "  Parameter containing:\n",
       "  tensor([-0.1517], requires_grad=True))]"
      ]
     },
     "execution_count": 64,
     "metadata": {},
     "output_type": "execute_result"
    }
   ],
   "source": [
    "list(m.named_parameters())"
   ]
  },
  {
   "cell_type": "code",
   "execution_count": 65,
   "metadata": {},
   "outputs": [
    {
     "name": "stdout",
     "output_type": "stream",
     "text": [
      "False\n"
     ]
    }
   ],
   "source": [
    "m(torch.tensor([1.])).backward()"
   ]
  },
  {
   "cell_type": "code",
   "execution_count": 60,
   "metadata": {},
   "outputs": [
    {
     "data": {
      "text/plain": [
       "[('0.bias',\n",
       "  Parameter containing:\n",
       "  tensor([0.7637, 0.3764, 0.4258, 0.5208], requires_grad=True)),\n",
       " ('0.weight_orig',\n",
       "  Parameter containing:\n",
       "  tensor([[-0.4998],\n",
       "          [-0.9608],\n",
       "          [ 0.1656],\n",
       "          [ 0.5035]], requires_grad=True)),\n",
       " ('0.weight_score',\n",
       "  Parameter containing:\n",
       "  tensor([[ 0.4618],\n",
       "          [ 1.3859],\n",
       "          [ 0.7635],\n",
       "          [-1.1754]], requires_grad=True)),\n",
       " ('1.weight',\n",
       "  Parameter containing:\n",
       "  tensor([[-0.2975,  0.1069, -0.2973, -0.3809]], requires_grad=True)),\n",
       " ('1.bias',\n",
       "  Parameter containing:\n",
       "  tensor([0.1533], requires_grad=True))]"
      ]
     },
     "execution_count": 60,
     "metadata": {},
     "output_type": "execute_result"
    }
   ],
   "source": [
    "list(m.named_parameters())"
   ]
  },
  {
   "cell_type": "code",
   "execution_count": 61,
   "metadata": {},
   "outputs": [
    {
     "data": {
      "text/plain": [
       "tensor([[-0.2975],\n",
       "        [ 0.1069],\n",
       "        [-0.2973],\n",
       "        [-0.3809]])"
      ]
     },
     "execution_count": 61,
     "metadata": {},
     "output_type": "execute_result"
    }
   ],
   "source": [
    "m[0].weight_score.grad"
   ]
  },
  {
   "cell_type": "code",
   "execution_count": null,
   "metadata": {},
   "outputs": [],
   "source": []
  }
 ],
 "metadata": {
  "kernelspec": {
   "display_name": "Theseus",
   "language": "python",
   "name": "theseus"
  },
  "language_info": {
   "codemirror_mode": {
    "name": "ipython",
    "version": 3
   },
   "file_extension": ".py",
   "mimetype": "text/x-python",
   "name": "python",
   "nbconvert_exporter": "python",
   "pygments_lexer": "ipython3",
   "version": "3.6.8"
  }
 },
 "nbformat": 4,
 "nbformat_minor": 4
}

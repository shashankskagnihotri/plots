{
 "cells": [
  {
   "cell_type": "code",
   "execution_count": 43,
   "id": "supreme-joshua",
   "metadata": {},
   "outputs": [],
   "source": [
    "from pruneshift.datamodules import ShiftDataModule\n",
    "from pruneshift.networks import create_network\n",
    "from pruneshift.teachers import create_teacher\n",
    "from hydra.experimental import initialize_config_dir, compose\n",
    "\n",
    "from pathlib import Path\n",
    "\n",
    "\n",
    "CFG_PATH = \"/home/hoffmaja/pruneshift_jupyter/configs\""
   ]
  },
  {
   "cell_type": "code",
   "execution_count": 41,
   "id": "initial-counter",
   "metadata": {},
   "outputs": [],
   "source": [
    "with initialize_config_dir(config_dir=CFG_PATH):\n",
    "    cfg = compose(\"oneshot\", overrides=[\"datamodule=imagenet100\", \"teacher=swsl_resnet50\"])"
   ]
  },
  {
   "cell_type": "code",
   "execution_count": 45,
   "id": "affected-shadow",
   "metadata": {},
   "outputs": [],
   "source": [
    "teacher = create_teacher(**cfg.teacher)"
   ]
  },
  {
   "cell_type": "code",
   "execution_count": null,
   "id": "greatest-potter",
   "metadata": {},
   "outputs": [],
   "source": []
  }
 ],
 "metadata": {
  "kernelspec": {
   "display_name": "Python 3",
   "language": "python",
   "name": "python3"
  },
  "language_info": {
   "codemirror_mode": {
    "name": "ipython",
    "version": 3
   },
   "file_extension": ".py",
   "mimetype": "text/x-python",
   "name": "python",
   "nbconvert_exporter": "python",
   "pygments_lexer": "ipython3",
   "version": "3.8.10"
  }
 },
 "nbformat": 4,
 "nbformat_minor": 5
}

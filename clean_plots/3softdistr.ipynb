{
 "cells": [
  {
   "cell_type": "code",
   "execution_count": 105,
   "metadata": {},
   "outputs": [],
   "source": [
    "from pruneshift.datamodules import ShiftDataModule\n",
    "from pruneshift.networks import create_network\n",
    "from pruneshift.teachers import create_teacher\n",
    "from pruneshift.teachers import Teacher\n",
    "from crd.criterion import CRDLoss\n",
    "from torch.utils.data import DataLoader\n",
    "\n",
    "from torchvision.datasets import ImageFolder\n",
    "\n",
    "import random\n",
    "from tqdm.autonotebook import tqdm\n",
    "import matplotlib.pyplot as plt\n",
    "import torch\n",
    "import os\n",
    "import numpy as np\n",
    "from pytorch_lightning.metrics.functional import accuracy\n",
    "\n",
    "\n",
    "img100_path = \"/misc/scratchSSD2/datasets/ILSVRC2012-100/train\"\n",
    "amda_path = \"/misc/lmbraid19/hoffmaja/models/imagenetr_models/deepaugment_and_augmix.pth.tar\"\n",
    "data_swsl_path = \"/misc/lmbraid19/hoffmaja/data_swsl_resnet50.pt\"\n",
    "data_amda_path = \"/misc/lmbraid19/hoffmaja/data_amda_resnet50.pt\"\n",
    "data_std_path = \"/misc/lmbraid19/hoffmaja/data_standard_resnet50.pt\""
   ]
  },
  {
   "cell_type": "code",
   "execution_count": null,
   "metadata": {},
   "outputs": [],
   "source": [
    "data_amda = create_teacher(num_classes=100, activations_path=data_amda_path, imagenet_subset=True)\n",
    "data_swsl = create_teacher(num_classes=100, activations_path=data_swsl_path, imagenet_subset=True)"
   ]
  },
  {
   "cell_type": "code",
   "execution_count": null,
   "metadata": {},
   "outputs": [],
   "source": [
    "dm_train = ShiftDataModule(\"imagenet\", path)\n",
    "dm_train.setup(\"fit\")"
   ]
  },
  {
   "cell_type": "code",
   "execution_count": 84,
   "metadata": {},
   "outputs": [],
   "source": [
    "class SoftProbDataset:\n",
    "    def __init__(self, activations_path, T, dataset_path=img100_path):\n",
    "        self.dataset = ImageFolder(dataset_path)\n",
    "        self.activations = create_teacher(num_classes=100, activations_path=activations_path, imagenet_subset=True)\n",
    "        self.T = T\n",
    "        \n",
    "    def __getitem__(self, idx):\n",
    "        label = self.dataset.targets[idx]\n",
    "        pred = self.activations(torch.tensor(idx), None)\n",
    "        probs = torch.softmax(pred / self.T, 0)\n",
    "        \n",
    "        return label, probs[label], probs.max()\n",
    "\n",
    "    def __len__(self):\n",
    "        return len(self.dataset)"
   ]
  },
  {
   "cell_type": "code",
   "execution_count": null,
   "metadata": {},
   "outputs": [],
   "source": []
  },
  {
   "cell_type": "code",
   "execution_count": 93,
   "metadata": {},
   "outputs": [],
   "source": [
    "def calculate_probs_distr(loader, num_bins=100):\n",
    "    bins = np.linspace(0, 1, num_bins)\n",
    "    counts = np.zeros(shape=len(bins) - 1, dtype=np.int64)\n",
    "    for _, probs, _ in loader:\n",
    "        partial_counts, _ = np.histogram(probs.numpy(), bins)\n",
    "        counts += partial_counts\n",
    "\n",
    "    return bins, counts\n",
    "\n",
    "def plot_probs_distr(**loaders):\n",
    "    for name, loader in loaders.items():\n",
    "        bins, counts = calculate_probs_distr(loader)\n",
    "        bin_positions = (bins[1: ] + bins[: -1]) / 2\n",
    "        plt.bar(bin_positions, counts, width=1/99, alpha=0.5, label=name)\n",
    "    plt.legend()"
   ]
  },
  {
   "cell_type": "code",
   "execution_count": 114,
   "metadata": {},
   "outputs": [],
   "source": [
    "dataset_swsl = SoftProbDataset(data_swsl_path, 5)\n",
    "loader_swsl = DataLoader(dataset_swsl, batch_size=256, num_workers=3)"
   ]
  },
  {
   "cell_type": "code",
   "execution_count": 112,
   "metadata": {},
   "outputs": [],
   "source": [
    "dataset_amda = SoftProbDataset(data_amda_path, 4)\n",
    "loader_amda = DataLoader(dataset_amda, batch_size=256, num_workers=3)"
   ]
  },
  {
   "cell_type": "code",
   "execution_count": 109,
   "metadata": {},
   "outputs": [],
   "source": [
    "dataset_std = SoftProbDataset(data_std_path, 4)\n",
    "loader_std = DataLoader(dataset_std, batch_size=256, num_workers=3)"
   ]
  },
  {
   "cell_type": "code",
   "execution_count": 115,
   "metadata": {},
   "outputs": [
    {
     "data": {
      "image/png": "[encoded data removed]",
      "text/plain": [
       "<Figure size 432x288 with 1 Axes>"
      ]
     },
     "metadata": {
      "needs_background": "light"
     },
     "output_type": "display_data"
    }
   ],
   "source": [
    "plot_probs_distr(swsl=loader_swsl, amda=loader_amda, std=loader_std)"
   ]
  },
  {
   "cell_type": "code",
   "execution_count": 107,
   "metadata": {},
   "outputs": [
    {
     "data": {
      "image/png": "[encoded data removed]",
      "text/plain": [
       "<Figure size 432x288 with 1 Axes>"
      ]
     },
     "metadata": {
      "needs_background": "light"
     },
     "output_type": "display_data"
    }
   ],
   "source": [
    "# T = 4\n",
    "plot_probs_distr(swsl=loader_swsl, amda=loader_amda, std=loader_std)"
   ]
  },
  {
   "cell_type": "code",
   "execution_count": 77,
   "metadata": {},
   "outputs": [
    {
     "data": {
      "text/plain": [
       "<BarContainer object of 99 artists>"
      ]
     },
     "execution_count": 77,
     "metadata": {},
     "output_type": "execute_result"
    },
    {
     "data": {
      "image/png": "[encoded data removed]",
      "text/plain": [
       "<Figure size 432x288 with 1 Axes>"
      ]
     },
     "metadata": {
      "needs_background": "light"
     },
     "output_type": "display_data"
    }
   ],
   "source": [
    "bin_positions = (bins[1: ] + bins[: -1]) / 2\n",
    "plt.bar(bin_positions, counts, width=1/99, alpha=0.5)"
   ]
  },
  {
   "cell_type": "code",
   "execution_count": 72,
   "metadata": {},
   "outputs": [
    {
     "data": {
      "text/plain": [
       "array([ 382, 3185, 3413, 3383, 3557, 3526, 3528, 3370, 3503, 3601, 3470,\n",
       "       3649, 3698, 3733, 3623, 3668, 3563, 3686, 3394, 3368, 3292, 3227,\n",
       "       3305, 2999, 2909, 2623, 2692, 2483, 2374, 2241, 2147, 2031, 1928,\n",
       "       1879, 1726, 1598, 1500, 1407, 1356, 1321, 1218, 1081, 1059,  940,\n",
       "        945,  830,  871,  760,  687,  641,  624,  639,  532,  527,  490,\n",
       "        479,  409,  411,  355,  330,  312,  266,  249,  288,  230,  202,\n",
       "        184,  186,  176,  169,  144,  156,  116,   93,  109,   88,   71,\n",
       "         82,   78,   64,   47,   49,   43,   34,   29,   31,   21,   21,\n",
       "         12,    9,    9,    7,    5,    4,    5,    0,    0,    0,    1])"
      ]
     },
     "execution_count": 72,
     "metadata": {},
     "output_type": "execute_result"
    }
   ],
   "source": [
    "counts"
   ]
  },
  {
   "cell_type": "code",
   "execution_count": null,
   "metadata": {},
   "outputs": [],
   "source": []
  }
 ],
 "metadata": {
  "kernelspec": {
   "display_name": "Theseus",
   "language": "python",
   "name": "theseus"
  },
  "language_info": {
   "codemirror_mode": {
    "name": "ipython",
    "version": 3
   },
   "file_extension": ".py",
   "mimetype": "text/x-python",
   "name": "python",
   "nbconvert_exporter": "python",
   "pygments_lexer": "ipython3",
   "version": "3.6.8"
  }
 },
 "nbformat": 4,
 "nbformat_minor": 4
}

{
 "cells": [
  {
   "cell_type": "code",
   "execution_count": 2,
   "metadata": {},
   "outputs": [],
   "source": [
    "from pruneshift.datamodules import ShiftDataModule\n",
    "from pruneshift.networks import create_network\n",
    "from pruneshift.teachers import create_teacher\n",
    "from pruneshift.teachers import Teacher\n",
    "from crd.criterion import CRDLoss\n",
    "\n",
    "import random\n",
    "from tqdm.autonotebook import tqdm\n",
    "import matplotlib.pyplot as plt\n",
    "import torch\n",
    "import os\n",
    "import numpy as np\n",
    "from pytorch_lightning.metrics.functional import accuracy\n",
    "\n",
    "\n",
    "path = \"/misc/scratchSSD2/datasets/ILSVRC2012-100/\"\n",
    "amda_path = \"/misc/lmbraid19/hoffmaja/models/imagenetr_models/deepaugment_and_augmix.pth.tar\"\n",
    "data_swsl_path = \"/misc/lmbraid19/hoffmaja/data_swsl_resnet50.pt\"\n",
    "data_amda_path = \"/misc/lmbraid19/hoffmaja/data_amda_resnet50.pt\""
   ]
  },
  {
   "cell_type": "code",
   "execution_count": 3,
   "metadata": {},
   "outputs": [
    {
     "ename": "FileNotFoundError",
     "evalue": "[Errno 2] No such file or directory: '/misc/lmbraid19/hoffmaja/data_amda_resnet50.pt'",
     "output_type": "error",
     "traceback": [
      "\u001b[0;31m---------------------------------------------------------------------------\u001b[0m",
      "\u001b[0;31mFileNotFoundError\u001b[0m                         Traceback (most recent call last)",
      "\u001b[0;32m<ipython-input-3-6e07b8fb173a>\u001b[0m in \u001b[0;36m<module>\u001b[0;34m\u001b[0m\n\u001b[0;32m----> 1\u001b[0;31m \u001b[0mdata_amda\u001b[0m \u001b[0;34m=\u001b[0m \u001b[0mcreate_teacher\u001b[0m\u001b[0;34m(\u001b[0m\u001b[0mnum_classes\u001b[0m\u001b[0;34m=\u001b[0m\u001b[0;36m100\u001b[0m\u001b[0;34m,\u001b[0m \u001b[0mactivations_path\u001b[0m\u001b[0;34m=\u001b[0m\u001b[0mdata_amda_path\u001b[0m\u001b[0;34m,\u001b[0m \u001b[0mimagenet_subset\u001b[0m\u001b[0;34m=\u001b[0m\u001b[0;32mTrue\u001b[0m\u001b[0;34m)\u001b[0m\u001b[0;34m\u001b[0m\u001b[0;34m\u001b[0m\u001b[0m\n\u001b[0m\u001b[1;32m      2\u001b[0m \u001b[0mdata_swsl\u001b[0m \u001b[0;34m=\u001b[0m \u001b[0mcreate_teacher\u001b[0m\u001b[0;34m(\u001b[0m\u001b[0mnum_classes\u001b[0m\u001b[0;34m=\u001b[0m\u001b[0;36m100\u001b[0m\u001b[0;34m,\u001b[0m \u001b[0mactivations_path\u001b[0m\u001b[0;34m=\u001b[0m\u001b[0mdata_swsl_path\u001b[0m\u001b[0;34m,\u001b[0m \u001b[0mimagenet_subset\u001b[0m\u001b[0;34m=\u001b[0m\u001b[0;32mTrue\u001b[0m\u001b[0;34m)\u001b[0m\u001b[0;34m\u001b[0m\u001b[0;34m\u001b[0m\u001b[0m\n",
      "\u001b[0;32m/work/dlclarge2/hoffmaja-pruneshift/pruneshift/src/pruneshift/teachers.py\u001b[0m in \u001b[0;36mcreate_teacher\u001b[0;34m(group, name, num_classes, activations_path, ckpt_path, model_path, version, download, imagenet_subset)\u001b[0m\n\u001b[1;32m     29\u001b[0m         \u001b[0;32mif\u001b[0m \u001b[0mimagenet_subset\u001b[0m\u001b[0;34m:\u001b[0m\u001b[0;34m\u001b[0m\u001b[0;34m\u001b[0m\u001b[0m\n\u001b[1;32m     30\u001b[0m             \u001b[0mlogger\u001b[0m\u001b[0;34m.\u001b[0m\u001b[0minfo\u001b[0m\u001b[0;34m(\u001b[0m\u001b[0;34mf\"Adopting teacher database to {num_classes} classes.\"\u001b[0m\u001b[0;34m)\u001b[0m\u001b[0;34m\u001b[0m\u001b[0;34m\u001b[0m\u001b[0m\n\u001b[0;32m---> 31\u001b[0;31m             \u001b[0mnetwork\u001b[0m \u001b[0;34m=\u001b[0m \u001b[0mDatabaseNetwork\u001b[0m\u001b[0;34m(\u001b[0m\u001b[0mactivations_path\u001b[0m\u001b[0;34m,\u001b[0m \u001b[0;36m1000\u001b[0m\u001b[0;34m)\u001b[0m\u001b[0;34m\u001b[0m\u001b[0;34m\u001b[0m\u001b[0m\n\u001b[0m\u001b[1;32m     32\u001b[0m             \u001b[0;32mreturn\u001b[0m \u001b[0mImagenetSubsetWrapper\u001b[0m\u001b[0;34m(\u001b[0m\u001b[0mnetwork\u001b[0m\u001b[0;34m,\u001b[0m \u001b[0mnum_classes\u001b[0m\u001b[0;34m)\u001b[0m\u001b[0;34m\u001b[0m\u001b[0;34m\u001b[0m\u001b[0m\n\u001b[1;32m     33\u001b[0m         \u001b[0;32mreturn\u001b[0m \u001b[0mDatabaseNetwork\u001b[0m\u001b[0;34m(\u001b[0m\u001b[0mactivations_path\u001b[0m\u001b[0;34m,\u001b[0m \u001b[0mnum_classes\u001b[0m\u001b[0;34m)\u001b[0m\u001b[0;34m\u001b[0m\u001b[0;34m\u001b[0m\u001b[0m\n",
      "\u001b[0;32m/work/dlclarge2/hoffmaja-pruneshift/pruneshift/src/pruneshift/teachers.py\u001b[0m in \u001b[0;36m__init__\u001b[0;34m(self, path, num_classes)\u001b[0m\n\u001b[1;32m     59\u001b[0m     \u001b[0;32mdef\u001b[0m \u001b[0m__init__\u001b[0m\u001b[0;34m(\u001b[0m\u001b[0mself\u001b[0m\u001b[0;34m,\u001b[0m \u001b[0mpath\u001b[0m\u001b[0;34m:\u001b[0m \u001b[0mstr\u001b[0m\u001b[0;34m,\u001b[0m \u001b[0mnum_classes\u001b[0m\u001b[0;34m:\u001b[0m \u001b[0mint\u001b[0m\u001b[0;34m)\u001b[0m\u001b[0;34m:\u001b[0m\u001b[0;34m\u001b[0m\u001b[0;34m\u001b[0m\u001b[0m\n\u001b[1;32m     60\u001b[0m         \u001b[0msuper\u001b[0m\u001b[0;34m(\u001b[0m\u001b[0mDatabaseNetwork\u001b[0m\u001b[0;34m,\u001b[0m \u001b[0mself\u001b[0m\u001b[0;34m)\u001b[0m\u001b[0;34m.\u001b[0m\u001b[0m__init__\u001b[0m\u001b[0;34m(\u001b[0m\u001b[0;34m)\u001b[0m\u001b[0;34m\u001b[0m\u001b[0;34m\u001b[0m\u001b[0m\n\u001b[0;32m---> 61\u001b[0;31m         \u001b[0mself\u001b[0m\u001b[0;34m.\u001b[0m\u001b[0mactivations\u001b[0m \u001b[0;34m=\u001b[0m \u001b[0mnp\u001b[0m\u001b[0;34m.\u001b[0m\u001b[0mmemmap\u001b[0m\u001b[0;34m(\u001b[0m\u001b[0mpath\u001b[0m\u001b[0;34m,\u001b[0m \u001b[0mmode\u001b[0m\u001b[0;34m=\u001b[0m\u001b[0;34m\"r\"\u001b[0m\u001b[0;34m,\u001b[0m \u001b[0mdtype\u001b[0m\u001b[0;34m=\u001b[0m\u001b[0mnp\u001b[0m\u001b[0;34m.\u001b[0m\u001b[0mfloat32\u001b[0m\u001b[0;34m)\u001b[0m\u001b[0;34m\u001b[0m\u001b[0;34m\u001b[0m\u001b[0m\n\u001b[0m\u001b[1;32m     62\u001b[0m         \u001b[0mself\u001b[0m\u001b[0;34m.\u001b[0m\u001b[0mactivations\u001b[0m \u001b[0;34m=\u001b[0m \u001b[0mnp\u001b[0m\u001b[0;34m.\u001b[0m\u001b[0mreshape\u001b[0m\u001b[0;34m(\u001b[0m\u001b[0mself\u001b[0m\u001b[0;34m.\u001b[0m\u001b[0mactivations\u001b[0m\u001b[0;34m,\u001b[0m \u001b[0;34m(\u001b[0m\u001b[0;34m-\u001b[0m\u001b[0;36m1\u001b[0m\u001b[0;34m,\u001b[0m \u001b[0mnum_classes\u001b[0m\u001b[0;34m)\u001b[0m\u001b[0;34m)\u001b[0m\u001b[0;34m\u001b[0m\u001b[0;34m\u001b[0m\u001b[0m\n\u001b[1;32m     63\u001b[0m \u001b[0;34m\u001b[0m\u001b[0m\n",
      "\u001b[0;32m/work/dlclarge2/hoffmaja-pruneshift/envs/pruneshift/lib/python3.8/site-packages/numpy/core/memmap.py\u001b[0m in \u001b[0;36m__new__\u001b[0;34m(subtype, filename, dtype, mode, offset, shape, order)\u001b[0m\n\u001b[1;32m    226\u001b[0m             \u001b[0mf_ctx\u001b[0m \u001b[0;34m=\u001b[0m \u001b[0mcontextlib_nullcontext\u001b[0m\u001b[0;34m(\u001b[0m\u001b[0mfilename\u001b[0m\u001b[0;34m)\u001b[0m\u001b[0;34m\u001b[0m\u001b[0;34m\u001b[0m\u001b[0m\n\u001b[1;32m    227\u001b[0m         \u001b[0;32melse\u001b[0m\u001b[0;34m:\u001b[0m\u001b[0;34m\u001b[0m\u001b[0;34m\u001b[0m\u001b[0m\n\u001b[0;32m--> 228\u001b[0;31m             \u001b[0mf_ctx\u001b[0m \u001b[0;34m=\u001b[0m \u001b[0mopen\u001b[0m\u001b[0;34m(\u001b[0m\u001b[0mos_fspath\u001b[0m\u001b[0;34m(\u001b[0m\u001b[0mfilename\u001b[0m\u001b[0;34m)\u001b[0m\u001b[0;34m,\u001b[0m \u001b[0;34m(\u001b[0m\u001b[0;34m'r'\u001b[0m \u001b[0;32mif\u001b[0m \u001b[0mmode\u001b[0m \u001b[0;34m==\u001b[0m \u001b[0;34m'c'\u001b[0m \u001b[0;32melse\u001b[0m \u001b[0mmode\u001b[0m\u001b[0;34m)\u001b[0m\u001b[0;34m+\u001b[0m\u001b[0;34m'b'\u001b[0m\u001b[0;34m)\u001b[0m\u001b[0;34m\u001b[0m\u001b[0;34m\u001b[0m\u001b[0m\n\u001b[0m\u001b[1;32m    229\u001b[0m \u001b[0;34m\u001b[0m\u001b[0m\n\u001b[1;32m    230\u001b[0m         \u001b[0;32mwith\u001b[0m \u001b[0mf_ctx\u001b[0m \u001b[0;32mas\u001b[0m \u001b[0mfid\u001b[0m\u001b[0;34m:\u001b[0m\u001b[0;34m\u001b[0m\u001b[0;34m\u001b[0m\u001b[0m\n",
      "\u001b[0;31mFileNotFoundError\u001b[0m: [Errno 2] No such file or directory: '/misc/lmbraid19/hoffmaja/data_amda_resnet50.pt'"
     ]
    }
   ],
   "source": [
    "data_amda = create_teacher(num_classes=100, activations_path=data_amda_path, imagenet_subset=True)\n",
    "data_swsl = create_teacher(num_classes=100, activations_path=data_swsl_path, imagenet_subset=True)"
   ]
  },
  {
   "cell_type": "code",
   "execution_count": null,
   "metadata": {},
   "outputs": [],
   "source": [
    "net_amda = create_network(\"imagenet\", \"resnet50\", 100, ckpt_path=amda_path, imagenet_subset=True)\n",
    "net_swsl = create_network(\"imagenet\", \"swsl_resnet50\", 100, download=True, imagenet_subset=True)\n",
    "net_amda = net_amda.eval()\n",
    "net_swsl = net_swsl.eval()"
   ]
  },
  {
   "cell_type": "code",
   "execution_count": null,
   "metadata": {},
   "outputs": [],
   "source": [
    "dm_train = ShiftDataModule(\"imagenet\", path)\n",
    "dm_train.setup(\"fit\")\n",
    "# dm_test = ShiftDataModule(\"imagenet\", path, only_test_transform=True)\n",
    "# dm_test.setup(\"fit\")"
   ]
  },
  {
   "cell_type": "code",
   "execution_count": null,
   "metadata": {},
   "outputs": [],
   "source": [
    "idx = random.choice(range(len(dm_train.train_dataset.dataset)))\n",
    "x, y = dm_train.train_dataset.dataset[idx]\n",
    "x = dm_train.train_transform(x)\n",
    "display(x)\n",
    "print(idx)\n",
    "x = dm_train.normalize(x)"
   ]
  },
  {
   "cell_type": "code",
   "execution_count": 259,
   "metadata": {},
   "outputs": [],
   "source": [
    "def plot_soft_target(net, sample, idx, T, database=False):\n",
    "    if database:\n",
    "        pred = net(torch.tensor(idx), sample[None, ...])\n",
    "        probs = torch.softmax(pred / T, 0)\n",
    "    else:\n",
    "        probs = torch.softmax(net(sample[None, ...] / T), 1).detach().cpu().numpy().flatten()\n",
    "    idx = range(len(probs))\n",
    "    fig = plt.bar(idx, probs, width=100/len(probs))\n",
    "    plt.yscale(\"log\")\n",
    "    \n"
   ]
  },
  {
   "cell_type": "code",
   "execution_count": 260,
   "metadata": {},
   "outputs": [
    {
     "data": {
      "image/png": "[encoded data removed]",
      "text/plain": [
       "<Figure size 432x288 with 1 Axes>"
      ]
     },
     "metadata": {
      "needs_background": "light"
     },
     "output_type": "display_data"
    }
   ],
   "source": [
    "plot_soft_target(net_swsl, x, torch.tensor(idx), 20)"
   ]
  },
  {
   "cell_type": "code",
   "execution_count": 261,
   "metadata": {},
   "outputs": [
    {
     "data": {
      "image/png": "[encoded data removed]",
      "text/plain": [
       "<Figure size 432x288 with 1 Axes>"
      ]
     },
     "metadata": {
      "needs_background": "light"
     },
     "output_type": "display_data"
    }
   ],
   "source": [
    "plot_soft_target(net_amda, x, idx, 4)"
   ]
  },
  {
   "cell_type": "code",
   "execution_count": 262,
   "metadata": {},
   "outputs": [
    {
     "data": {
      "image/png": "[encoded data removed]",
      "text/plain": [
       "<Figure size 432x288 with 1 Axes>"
      ]
     },
     "metadata": {
      "needs_background": "light"
     },
     "output_type": "display_data"
    }
   ],
   "source": [
    "plot_soft_target(data_amda, x, idx, 4, database=True)"
   ]
  },
  {
   "cell_type": "code",
   "execution_count": 263,
   "metadata": {},
   "outputs": [
    {
     "data": {
      "image/png": "[encoded data removed]",
      "text/plain": [
       "<Figure size 432x288 with 1 Axes>"
      ]
     },
     "metadata": {
      "needs_background": "light"
     },
     "output_type": "display_data"
    }
   ],
   "source": [
    "plot_soft_target(data_swsl, x, idx, 4, database=True)"
   ]
  },
  {
   "cell_type": "code",
   "execution_count": 234,
   "metadata": {},
   "outputs": [
    {
     "data": {
      "text/plain": [
       "pruneshift.networks.ImagenetSubsetWrapper"
      ]
     },
     "execution_count": 234,
     "metadata": {},
     "output_type": "execute_result"
    }
   ],
   "source": [
    "type(data_swsl)"
   ]
  },
  {
   "cell_type": "code",
   "execution_count": 209,
   "metadata": {},
   "outputs": [
    {
     "data": {
      "text/plain": [
       "97"
      ]
     },
     "execution_count": 209,
     "metadata": {},
     "output_type": "execute_result"
    }
   ],
   "source": [
    "y"
   ]
  },
  {
   "cell_type": "code",
   "execution_count": null,
   "metadata": {},
   "outputs": [],
   "source": [
    ", x, y = dm_train.train_dataset[idx]\n",
    "y_train = torch.softmax(net(x[None, ...] / T), 1).detach().cpu().numpy().flatten()\n",
    "_, x, y = dm_test.train_dataset[idx]\n",
    "y_test = torch.softmax(net(x[None, ...] / T_database), 1).detach().cpu().numpy().flatten()"
   ]
  },
  {
   "cell_type": "code",
   "execution_count": 9,
   "metadata": {},
   "outputs": [],
   "source": [
    "idx = 100002\n",
    "T = 1\n",
    "T_database = 1\n",
    "_, x, y = dm_train.train_dataset[idx]\n",
    "y_train = torch.softmax(net(x[None, ...] / T), 1).detach().cpu().numpy().flatten()\n",
    "_, x, y = dm_test.train_dataset[idx]\n",
    "y_test = torch.softmax(net(x[None, ...] / T_database), 1).detach().cpu().numpy().flatten()"
   ]
  },
  {
   "cell_type": "code",
   "execution_count": 10,
   "metadata": {},
   "outputs": [],
   "source": [
    "def plot(probs):\n",
    "    idx = range(len(probs))\n",
    "    fig = plt.bar(idx, probs, width=100/len(probs))\n",
    "    plt.yscale(\"log\")"
   ]
  },
  {
   "cell_type": "code",
   "execution_count": 11,
   "metadata": {},
   "outputs": [
    {
     "name": "stdout",
     "output_type": "stream",
     "text": [
      "0.05817272\n",
      "0.6659622\n"
     ]
    }
   ],
   "source": [
    "print(np.sum(-y_train * np.log(y_train)))\n",
    "print(np.sum(-y_test * np.log(y_test)))"
   ]
  },
  {
   "cell_type": "code",
   "execution_count": 13,
   "metadata": {},
   "outputs": [
    {
     "data": {
      "text/plain": [
       "array([ 5.46448353e-09,  5.26393096e-10,  1.73448894e-10,  3.20214113e-08,\n",
       "        8.63877148e-08, -2.48909604e-09, -5.66310554e-08, -2.65803135e-09,\n",
       "       -2.17359108e-09, -2.80660317e-09, -8.12663643e-08,  1.18459916e-07,\n",
       "       -8.41167758e-09, -1.83224707e-08, -7.28523233e-08, -3.54369513e-06,\n",
       "       -1.05643778e-08,  2.12412399e-09,  1.65844849e-09,  5.96492855e-09,\n",
       "       -4.19235313e-10, -6.45786624e-09,  2.22181296e-09,  1.53248181e-09,\n",
       "       -8.32546032e-10, -3.15045490e-10, -1.63183316e-08,  9.49724122e-09,\n",
       "        1.47433488e-08,  3.15603899e-08,  8.15993051e-09,  1.82289739e-11,\n",
       "        5.38232792e-11,  6.02505268e-11, -3.27061489e-09,  7.43685558e-09,\n",
       "        6.40279030e-09,  8.64020677e-08, -1.32744432e-07, -1.08423648e-09,\n",
       "       -8.90672567e-08, -5.35894884e-09, -4.38146763e-09, -1.79642257e-07,\n",
       "       -2.19903811e-08, -4.83798512e-09, -2.66720535e-09, -4.91807484e-08,\n",
       "       -9.98286254e-09, -1.31939766e-08, -2.73142620e-09, -2.16512419e-07,\n",
       "       -1.73487180e-08, -5.07546702e-07, -8.29049007e-09, -4.93884755e-09,\n",
       "       -2.13100524e-08, -8.74850201e-08, -2.08667874e-08, -5.14947409e-08,\n",
       "       -1.04639586e-09, -8.46532977e-09,  2.75066714e-06, -1.67970171e-09,\n",
       "       -4.44529302e-10, -1.05963892e-07, -1.74664494e-09,  7.77858986e-08,\n",
       "       -3.94890769e-08, -1.16161544e-07, -1.17367263e-05, -1.16476372e-07,\n",
       "       -1.46508668e-04,  3.29801202e-01, -9.68987995e-04, -9.05824651e-04,\n",
       "       -2.51408899e-04, -3.27501535e-01, -4.57335858e-09, -4.15308648e-07,\n",
       "        4.40019665e-09, -5.67247471e-10, -1.55866005e-08,  5.91641403e-10,\n",
       "       -1.75884352e-07,  7.01727032e-09, -1.68957548e-09, -2.54804289e-09,\n",
       "       -4.83854521e-08,  4.28396518e-09, -2.58086672e-08,  3.08712913e-07,\n",
       "       -1.07825281e-05,  4.32100578e-08,  1.71568892e-09, -7.37764140e-07,\n",
       "        7.41653139e-09, -1.05371711e-08,  7.67553843e-09, -1.00200987e-06],\n",
       "      dtype=float32)"
      ]
     },
     "execution_count": 13,
     "metadata": {},
     "output_type": "execute_result"
    }
   ],
   "source": [
    "y_train - y_test"
   ]
  },
  {
   "cell_type": "code",
   "execution_count": 18,
   "metadata": {},
   "outputs": [
    {
     "data": {
      "image/png": "[encoded data removed]",
      "text/plain": [
       "<Figure size 432x288 with 1 Axes>"
      ]
     },
     "metadata": {
      "needs_background": "light"
     },
     "output_type": "display_data"
    }
   ],
   "source": [
    "plot(y_test - y_train)"
   ]
  },
  {
   "cell_type": "code",
   "execution_count": 119,
   "metadata": {},
   "outputs": [
    {
     "data": {
      "image/png": "[encoded data removed]",
      "text/plain": [
       "<Figure size 432x288 with 1 Axes>"
      ]
     },
     "metadata": {
      "needs_background": "light"
     },
     "output_type": "display_data"
    }
   ],
   "source": [
    "plot(y_train)"
   ]
  },
  {
   "cell_type": "code",
   "execution_count": 120,
   "metadata": {},
   "outputs": [
    {
     "data": {
      "image/png": "[encoded data removed]",
      "text/plain": [
       "<Figure size 432x288 with 1 Axes>"
      ]
     },
     "metadata": {
      "needs_background": "light"
     },
     "output_type": "display_data"
    }
   ],
   "source": [
    "plot(y_test)"
   ]
  },
  {
   "cell_type": "code",
   "execution_count": 3,
   "metadata": {},
   "outputs": [],
   "source": [
    "import random\n",
    "\n",
    "def calculate_entropy(dataset, net, n=100, T=4):\n",
    "    \"\"\" Averages the entropy over the first n samples.\"\"\"\n",
    "    samples = []\n",
    "    print(\"Loading samples...\")\n",
    "    for _ in tqdm(range(n)):\n",
    "        _, x, _ = random.choice(dataset)\n",
    "        samples.append(x)\n",
    "    batch =  torch.stack(samples)\n",
    "    print(\"Bring net to a cuda device...\")\n",
    "    net = net.to(torch.device(\"cuda:1\"))\n",
    "    batch = batch.to(torch.device(\"cuda:1\"))\n",
    "    print(\"Forward pass...\")\n",
    "    pred = net(batch)\n",
    "    print(\"Calculate stats...\")\n",
    "    prob = torch.softmax(pred * T, 1).detach().cpu()\n",
    "    log_prob = torch.log_softmax(pred * T, 1).detach().cpu()\n",
    "    return (-prob * log_prob).sum(1).mean()"
   ]
  },
  {
   "cell_type": "code",
   "execution_count": null,
   "metadata": {},
   "outputs": [
    {
     "name": "stdout",
     "output_type": "stream",
     "text": [
      "Loading samples...\n"
     ]
    },
    {
     "data": {
      "application/vnd.jupyter.widget-view+json": {
       "model_id": "de160c04888a4ba9a82b4aa56c401488",
       "version_major": 2,
       "version_minor": 0
      },
      "text/plain": [
       "HBox(children=(HTML(value=''), FloatProgress(value=0.0), HTML(value='')))"
      ]
     },
     "metadata": {},
     "output_type": "display_data"
    },
    {
     "name": "stdout",
     "output_type": "stream",
     "text": [
      "\n",
      "Bring net to the a cuda device...\n"
     ]
    }
   ],
   "source": [
    "calculate_entropy(dm_train.train_dataset, net)"
   ]
  },
  {
   "cell_type": "code",
   "execution_count": 126,
   "metadata": {},
   "outputs": [
    {
     "data": {
      "application/vnd.jupyter.widget-view+json": {
       "model_id": "af888f56e6004a60adc041dbfdc9d0e3",
       "version_major": 2,
       "version_minor": 0
      },
      "text/plain": [
       "HBox(children=(HTML(value=''), FloatProgress(value=0.0, max=200.0), HTML(value='')))"
      ]
     },
     "metadata": {},
     "output_type": "display_data"
    },
    {
     "name": "stdout",
     "output_type": "stream",
     "text": [
      "\n"
     ]
    },
    {
     "data": {
      "text/plain": [
       "tensor(0.0202)"
      ]
     },
     "execution_count": 126,
     "metadata": {},
     "output_type": "execute_result"
    }
   ],
   "source": [
    "calculate_entropy(dm_test.train_dataset, net, 200)"
   ]
  },
  {
   "cell_type": "code",
   "execution_count": null,
   "metadata": {},
   "outputs": [],
   "source": []
  }
 ],
 "metadata": {
  "kernelspec": {
   "display_name": "Python 3",
   "language": "python",
   "name": "python3"
  },
  "language_info": {
   "codemirror_mode": {
    "name": "ipython",
    "version": 3
   },
   "file_extension": ".py",
   "mimetype": "text/x-python",
   "name": "python",
   "nbconvert_exporter": "python",
   "pygments_lexer": "ipython3",
   "version": "3.8.5"
  }
 },
 "nbformat": 4,
 "nbformat_minor": 4
}
